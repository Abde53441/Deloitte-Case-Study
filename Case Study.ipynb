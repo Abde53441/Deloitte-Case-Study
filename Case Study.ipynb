{
 "cells": [
  {
   "cell_type": "markdown",
   "metadata": {},
   "source": [
    "# 1) LOADING MODULES AND DATASETS"
   ]
  },
  {
   "cell_type": "code",
   "execution_count": 1,
   "metadata": {},
   "outputs": [],
   "source": [
    "##Loading modules \n",
    "import warnings\n",
    "warnings.filterwarnings('ignore')\n",
    "\n",
    "import numpy as np ## array processing\n",
    "import pandas as pd ## dataframe processing\n",
    "import math\n",
    "import re\n",
    "\n",
    "from sklearn.preprocessing  import OneHotEncoder, MinMaxScaler, StandardScaler, OrdinalEncoder ## encoding\n",
    "from sklearn.compose import ColumnTransformer, make_column_transformer ##transformer\n",
    "from sklearn.pipeline import Pipeline, make_pipeline ## pipeline\n",
    "from sklearn.impute import SimpleImputer ## imputation\n",
    "from sklearn.model_selection import train_test_split, KFold, GridSearchCV, RandomizedSearchCV ## cross-validation\n",
    "from sklearn.linear_model import LinearRegression, Lasso, Ridge ## Linear Regression\n",
    "from sklearn.metrics import mean_absolute_error, r2_score, mean_squared_error ## Root Mean Squared Error\n",
    "from sklearn.ensemble import RandomForestRegressor ## Random Forest\n",
    "\n",
    "import seaborn as sns ##Visualisation\n",
    "import matplotlib.pyplot as plt ## Visualisation\n",
    "import xgboost as xgbs ##Xgboost\n",
    "import eli5 # names from transformers"
   ]
  },
  {
   "cell_type": "code",
   "execution_count": 2,
   "metadata": {},
   "outputs": [],
   "source": [
    "data_train = pd.read_csv(r'/Users/Humza Ali/OneDrive/Documents/Data/Practise/train.csv') ## Loading Train datasets"
   ]
  },
  {
   "cell_type": "code",
   "execution_count": 3,
   "metadata": {},
   "outputs": [],
   "source": [
    "data_test = pd.read_excel(r'/Users/Humza Ali/OneDrive/Documents/Data/Practise/test.xlsx') ## Loading test datatsets"
   ]
  },
  {
   "cell_type": "code",
   "execution_count": 4,
   "metadata": {},
   "outputs": [
    {
     "data": {
      "text/html": [
       "<div>\n",
       "<style scoped>\n",
       "    .dataframe tbody tr th:only-of-type {\n",
       "        vertical-align: middle;\n",
       "    }\n",
       "\n",
       "    .dataframe tbody tr th {\n",
       "        vertical-align: top;\n",
       "    }\n",
       "\n",
       "    .dataframe thead th {\n",
       "        text-align: right;\n",
       "    }\n",
       "</style>\n",
       "<table border=\"1\" class=\"dataframe\">\n",
       "  <thead>\n",
       "    <tr style=\"text-align: right;\">\n",
       "      <th></th>\n",
       "      <th>id</th>\n",
       "      <th>property_type</th>\n",
       "      <th>room_type</th>\n",
       "      <th>amenities</th>\n",
       "      <th>accommodates</th>\n",
       "      <th>bathrooms</th>\n",
       "      <th>bed_type</th>\n",
       "      <th>cancellation_policy</th>\n",
       "      <th>cleaning_fee</th>\n",
       "      <th>city</th>\n",
       "      <th>...</th>\n",
       "      <th>name</th>\n",
       "      <th>neighbourhood</th>\n",
       "      <th>number_of_reviews</th>\n",
       "      <th>review_scores_rating</th>\n",
       "      <th>thumbnail_url</th>\n",
       "      <th>zipcode</th>\n",
       "      <th>bedrooms</th>\n",
       "      <th>beds</th>\n",
       "      <th>log_price</th>\n",
       "      <th></th>\n",
       "    </tr>\n",
       "  </thead>\n",
       "  <tbody>\n",
       "    <tr>\n",
       "      <td>0</td>\n",
       "      <td>6901257</td>\n",
       "      <td>Apartment</td>\n",
       "      <td>Entire home/apt</td>\n",
       "      <td>{\"Wireless Internet\",\"Air conditioning\",Kitche...</td>\n",
       "      <td>3</td>\n",
       "      <td>1.0</td>\n",
       "      <td>Real Bed</td>\n",
       "      <td>strict</td>\n",
       "      <td>True</td>\n",
       "      <td>NYC</td>\n",
       "      <td>...</td>\n",
       "      <td>Beautiful brownstone 1-bedroom</td>\n",
       "      <td>Brooklyn Heights</td>\n",
       "      <td>2</td>\n",
       "      <td>100.0</td>\n",
       "      <td>https://a0.muscache.com/im/pictures/6d7cbbf7-c...</td>\n",
       "      <td>11201</td>\n",
       "      <td>1.0</td>\n",
       "      <td>1.0</td>\n",
       "      <td>5.010635</td>\n",
       "      <td>NaN</td>\n",
       "    </tr>\n",
       "    <tr>\n",
       "      <td>1</td>\n",
       "      <td>6304928</td>\n",
       "      <td>Apartment</td>\n",
       "      <td>Entire home/apt</td>\n",
       "      <td>{\"Wireless Internet\",\"Air conditioning\",Kitche...</td>\n",
       "      <td>7</td>\n",
       "      <td>1.0</td>\n",
       "      <td>Real Bed</td>\n",
       "      <td>strict</td>\n",
       "      <td>True</td>\n",
       "      <td>NYC</td>\n",
       "      <td>...</td>\n",
       "      <td>Superb 3BR Apt Located Near Times Square</td>\n",
       "      <td>Hell's Kitchen</td>\n",
       "      <td>6</td>\n",
       "      <td>93.0</td>\n",
       "      <td>https://a0.muscache.com/im/pictures/348a55fe-4...</td>\n",
       "      <td>10019</td>\n",
       "      <td>3.0</td>\n",
       "      <td>3.0</td>\n",
       "      <td>5.129899</td>\n",
       "      <td>NaN</td>\n",
       "    </tr>\n",
       "    <tr>\n",
       "      <td>2</td>\n",
       "      <td>7919400</td>\n",
       "      <td>Apartment</td>\n",
       "      <td>Entire home/apt</td>\n",
       "      <td>{TV,\"Cable TV\",\"Wireless Internet\",\"Air condit...</td>\n",
       "      <td>5</td>\n",
       "      <td>1.0</td>\n",
       "      <td>Real Bed</td>\n",
       "      <td>moderate</td>\n",
       "      <td>True</td>\n",
       "      <td>NYC</td>\n",
       "      <td>...</td>\n",
       "      <td>The Garden Oasis</td>\n",
       "      <td>Harlem</td>\n",
       "      <td>10</td>\n",
       "      <td>92.0</td>\n",
       "      <td>https://a0.muscache.com/im/pictures/6fae5362-9...</td>\n",
       "      <td>10027</td>\n",
       "      <td>1.0</td>\n",
       "      <td>3.0</td>\n",
       "      <td>4.976734</td>\n",
       "      <td>NaN</td>\n",
       "    </tr>\n",
       "    <tr>\n",
       "      <td>3</td>\n",
       "      <td>13418779</td>\n",
       "      <td>House</td>\n",
       "      <td>Entire home/apt</td>\n",
       "      <td>{TV,\"Cable TV\",Internet,\"Wireless Internet\",Ki...</td>\n",
       "      <td>4</td>\n",
       "      <td>1.0</td>\n",
       "      <td>Real Bed</td>\n",
       "      <td>flexible</td>\n",
       "      <td>True</td>\n",
       "      <td>SF</td>\n",
       "      <td>...</td>\n",
       "      <td>Beautiful Flat in the Heart of SF!</td>\n",
       "      <td>Lower Haight</td>\n",
       "      <td>0</td>\n",
       "      <td>NaN</td>\n",
       "      <td>https://a0.muscache.com/im/pictures/72208dad-9...</td>\n",
       "      <td>94117</td>\n",
       "      <td>2.0</td>\n",
       "      <td>2.0</td>\n",
       "      <td>6.620073</td>\n",
       "      <td>NaN</td>\n",
       "    </tr>\n",
       "    <tr>\n",
       "      <td>4</td>\n",
       "      <td>3808709</td>\n",
       "      <td>Apartment</td>\n",
       "      <td>Entire home/apt</td>\n",
       "      <td>{TV,Internet,\"Wireless Internet\",\"Air conditio...</td>\n",
       "      <td>2</td>\n",
       "      <td>1.0</td>\n",
       "      <td>Real Bed</td>\n",
       "      <td>moderate</td>\n",
       "      <td>True</td>\n",
       "      <td>DC</td>\n",
       "      <td>...</td>\n",
       "      <td>Great studio in midtown DC</td>\n",
       "      <td>Columbia Heights</td>\n",
       "      <td>4</td>\n",
       "      <td>40.0</td>\n",
       "      <td>NaN</td>\n",
       "      <td>20009</td>\n",
       "      <td>0.0</td>\n",
       "      <td>1.0</td>\n",
       "      <td>4.744932</td>\n",
       "      <td>NaN</td>\n",
       "    </tr>\n",
       "  </tbody>\n",
       "</table>\n",
       "<p>5 rows × 30 columns</p>\n",
       "</div>"
      ],
      "text/plain": [
       "         id property_type        room_type  \\\n",
       "0   6901257     Apartment  Entire home/apt   \n",
       "1   6304928     Apartment  Entire home/apt   \n",
       "2   7919400     Apartment  Entire home/apt   \n",
       "3  13418779         House  Entire home/apt   \n",
       "4   3808709     Apartment  Entire home/apt   \n",
       "\n",
       "                                           amenities  accommodates  bathrooms  \\\n",
       "0  {\"Wireless Internet\",\"Air conditioning\",Kitche...             3        1.0   \n",
       "1  {\"Wireless Internet\",\"Air conditioning\",Kitche...             7        1.0   \n",
       "2  {TV,\"Cable TV\",\"Wireless Internet\",\"Air condit...             5        1.0   \n",
       "3  {TV,\"Cable TV\",Internet,\"Wireless Internet\",Ki...             4        1.0   \n",
       "4  {TV,Internet,\"Wireless Internet\",\"Air conditio...             2        1.0   \n",
       "\n",
       "   bed_type cancellation_policy  cleaning_fee city  ...  \\\n",
       "0  Real Bed              strict          True  NYC  ...   \n",
       "1  Real Bed              strict          True  NYC  ...   \n",
       "2  Real Bed            moderate          True  NYC  ...   \n",
       "3  Real Bed            flexible          True   SF  ...   \n",
       "4  Real Bed            moderate          True   DC  ...   \n",
       "\n",
       "                                       name     neighbourhood  \\\n",
       "0            Beautiful brownstone 1-bedroom  Brooklyn Heights   \n",
       "1  Superb 3BR Apt Located Near Times Square    Hell's Kitchen   \n",
       "2                          The Garden Oasis            Harlem   \n",
       "3        Beautiful Flat in the Heart of SF!      Lower Haight   \n",
       "4                Great studio in midtown DC  Columbia Heights   \n",
       "\n",
       "  number_of_reviews review_scores_rating  \\\n",
       "0                 2                100.0   \n",
       "1                 6                 93.0   \n",
       "2                10                 92.0   \n",
       "3                 0                  NaN   \n",
       "4                 4                 40.0   \n",
       "\n",
       "                                       thumbnail_url zipcode bedrooms beds  \\\n",
       "0  https://a0.muscache.com/im/pictures/6d7cbbf7-c...   11201      1.0  1.0   \n",
       "1  https://a0.muscache.com/im/pictures/348a55fe-4...   10019      3.0  3.0   \n",
       "2  https://a0.muscache.com/im/pictures/6fae5362-9...   10027      1.0  3.0   \n",
       "3  https://a0.muscache.com/im/pictures/72208dad-9...   94117      2.0  2.0   \n",
       "4                                                NaN   20009      0.0  1.0   \n",
       "\n",
       "   log_price      \n",
       "0   5.010635 NaN  \n",
       "1   5.129899 NaN  \n",
       "2   4.976734 NaN  \n",
       "3   6.620073 NaN  \n",
       "4   4.744932 NaN  \n",
       "\n",
       "[5 rows x 30 columns]"
      ]
     },
     "execution_count": 4,
     "metadata": {},
     "output_type": "execute_result"
    }
   ],
   "source": [
    "data_train.head() ## Checking first 5 row of datasets"
   ]
  },
  {
   "cell_type": "code",
   "execution_count": 5,
   "metadata": {},
   "outputs": [
    {
     "data": {
      "text/html": [
       "<div>\n",
       "<style scoped>\n",
       "    .dataframe tbody tr th:only-of-type {\n",
       "        vertical-align: middle;\n",
       "    }\n",
       "\n",
       "    .dataframe tbody tr th {\n",
       "        vertical-align: top;\n",
       "    }\n",
       "\n",
       "    .dataframe thead th {\n",
       "        text-align: right;\n",
       "    }\n",
       "</style>\n",
       "<table border=\"1\" class=\"dataframe\">\n",
       "  <thead>\n",
       "    <tr style=\"text-align: right;\">\n",
       "      <th></th>\n",
       "      <th>id</th>\n",
       "      <th>property_type</th>\n",
       "      <th>room_type</th>\n",
       "      <th>amenities</th>\n",
       "      <th>accommodates</th>\n",
       "      <th>bathrooms</th>\n",
       "      <th>bed_type</th>\n",
       "      <th>cancellation_policy</th>\n",
       "      <th>cleaning_fee</th>\n",
       "      <th>city</th>\n",
       "      <th>...</th>\n",
       "      <th>longitude</th>\n",
       "      <th>name</th>\n",
       "      <th>neighbourhood</th>\n",
       "      <th>number_of_reviews</th>\n",
       "      <th>review_scores_rating</th>\n",
       "      <th>thumbnail_url</th>\n",
       "      <th>zipcode</th>\n",
       "      <th>bedrooms</th>\n",
       "      <th>beds</th>\n",
       "      <th></th>\n",
       "    </tr>\n",
       "  </thead>\n",
       "  <tbody>\n",
       "    <tr>\n",
       "      <td>0</td>\n",
       "      <td>5979389</td>\n",
       "      <td>Apartment</td>\n",
       "      <td>Private room</td>\n",
       "      <td>{\"Wireless Internet\",\"Air conditioning\",Kitche...</td>\n",
       "      <td>2</td>\n",
       "      <td>1.0</td>\n",
       "      <td>Real Bed</td>\n",
       "      <td>strict</td>\n",
       "      <td>True</td>\n",
       "      <td>NYC</td>\n",
       "      <td>...</td>\n",
       "      <td>-73.915318</td>\n",
       "      <td>Bedroom in Renovated Apartment with Washer/Dryer</td>\n",
       "      <td>Ridgewood</td>\n",
       "      <td>0</td>\n",
       "      <td>NaN</td>\n",
       "      <td>https://a0.muscache.com/im/pictures/b43127ee-b...</td>\n",
       "      <td>11385</td>\n",
       "      <td>1.0</td>\n",
       "      <td>1.0</td>\n",
       "      <td>NaN</td>\n",
       "    </tr>\n",
       "    <tr>\n",
       "      <td>1</td>\n",
       "      <td>13488121</td>\n",
       "      <td>Apartment</td>\n",
       "      <td>Entire home/apt</td>\n",
       "      <td>{TV,\"Cable TV\",Internet,\"Wireless Internet\",\"A...</td>\n",
       "      <td>4</td>\n",
       "      <td>1.0</td>\n",
       "      <td>Real Bed</td>\n",
       "      <td>moderate</td>\n",
       "      <td>True</td>\n",
       "      <td>LA</td>\n",
       "      <td>...</td>\n",
       "      <td>-118.317929</td>\n",
       "      <td>Peaceful and Quiet Hollywood Hills</td>\n",
       "      <td>Hollywood Hills</td>\n",
       "      <td>24</td>\n",
       "      <td>100.0</td>\n",
       "      <td>https://a0.muscache.com/im/pictures/894d8ca5-7...</td>\n",
       "      <td>90068</td>\n",
       "      <td>1.0</td>\n",
       "      <td>1.0</td>\n",
       "      <td>NaN</td>\n",
       "    </tr>\n",
       "    <tr>\n",
       "      <td>2</td>\n",
       "      <td>8121643</td>\n",
       "      <td>Apartment</td>\n",
       "      <td>Private room</td>\n",
       "      <td>{TV,\"Cable TV\",Internet,\"Wireless Internet\",\"A...</td>\n",
       "      <td>2</td>\n",
       "      <td>1.0</td>\n",
       "      <td>Real Bed</td>\n",
       "      <td>flexible</td>\n",
       "      <td>False</td>\n",
       "      <td>NYC</td>\n",
       "      <td>...</td>\n",
       "      <td>-74.015211</td>\n",
       "      <td>Luxury, doorman Building- FIDI</td>\n",
       "      <td>Financial District</td>\n",
       "      <td>0</td>\n",
       "      <td>NaN</td>\n",
       "      <td>NaN</td>\n",
       "      <td>10006</td>\n",
       "      <td>1.0</td>\n",
       "      <td>1.0</td>\n",
       "      <td>NaN</td>\n",
       "    </tr>\n",
       "    <tr>\n",
       "      <td>3</td>\n",
       "      <td>16490010</td>\n",
       "      <td>Apartment</td>\n",
       "      <td>Private room</td>\n",
       "      <td>{Internet,\"Wireless Internet\",\"Air conditionin...</td>\n",
       "      <td>2</td>\n",
       "      <td>1.0</td>\n",
       "      <td>Real Bed</td>\n",
       "      <td>flexible</td>\n",
       "      <td>True</td>\n",
       "      <td>NYC</td>\n",
       "      <td>...</td>\n",
       "      <td>-73.945642</td>\n",
       "      <td>Cozy room in sunny historic Greenpoint home</td>\n",
       "      <td>Greenpoint</td>\n",
       "      <td>12</td>\n",
       "      <td>98.0</td>\n",
       "      <td>https://a0.muscache.com/im/pictures/6c99615c-4...</td>\n",
       "      <td>11222</td>\n",
       "      <td>1.0</td>\n",
       "      <td>1.0</td>\n",
       "      <td>NaN</td>\n",
       "    </tr>\n",
       "    <tr>\n",
       "      <td>4</td>\n",
       "      <td>16274069</td>\n",
       "      <td>Apartment</td>\n",
       "      <td>Entire home/apt</td>\n",
       "      <td>{TV,Internet,\"Wireless Internet\",\"Air conditio...</td>\n",
       "      <td>4</td>\n",
       "      <td>1.0</td>\n",
       "      <td>Real Bed</td>\n",
       "      <td>moderate</td>\n",
       "      <td>True</td>\n",
       "      <td>NYC</td>\n",
       "      <td>...</td>\n",
       "      <td>-73.943259</td>\n",
       "      <td>B's Suite</td>\n",
       "      <td>Bedford-Stuyvesant</td>\n",
       "      <td>13</td>\n",
       "      <td>92.0</td>\n",
       "      <td>https://a0.muscache.com/im/pictures/56275358/c...</td>\n",
       "      <td>11216</td>\n",
       "      <td>2.0</td>\n",
       "      <td>3.0</td>\n",
       "      <td>NaN</td>\n",
       "    </tr>\n",
       "  </tbody>\n",
       "</table>\n",
       "<p>5 rows × 29 columns</p>\n",
       "</div>"
      ],
      "text/plain": [
       "         id property_type        room_type  \\\n",
       "0   5979389     Apartment     Private room   \n",
       "1  13488121     Apartment  Entire home/apt   \n",
       "2   8121643     Apartment     Private room   \n",
       "3  16490010     Apartment     Private room   \n",
       "4  16274069     Apartment  Entire home/apt   \n",
       "\n",
       "                                           amenities  accommodates  bathrooms  \\\n",
       "0  {\"Wireless Internet\",\"Air conditioning\",Kitche...             2        1.0   \n",
       "1  {TV,\"Cable TV\",Internet,\"Wireless Internet\",\"A...             4        1.0   \n",
       "2  {TV,\"Cable TV\",Internet,\"Wireless Internet\",\"A...             2        1.0   \n",
       "3  {Internet,\"Wireless Internet\",\"Air conditionin...             2        1.0   \n",
       "4  {TV,Internet,\"Wireless Internet\",\"Air conditio...             4        1.0   \n",
       "\n",
       "   bed_type cancellation_policy  cleaning_fee city  ...   longitude  \\\n",
       "0  Real Bed              strict          True  NYC  ...  -73.915318   \n",
       "1  Real Bed            moderate          True   LA  ... -118.317929   \n",
       "2  Real Bed            flexible         False  NYC  ...  -74.015211   \n",
       "3  Real Bed            flexible          True  NYC  ...  -73.945642   \n",
       "4  Real Bed            moderate          True  NYC  ...  -73.943259   \n",
       "\n",
       "                                               name       neighbourhood  \\\n",
       "0  Bedroom in Renovated Apartment with Washer/Dryer           Ridgewood   \n",
       "1                Peaceful and Quiet Hollywood Hills     Hollywood Hills   \n",
       "2                    Luxury, doorman Building- FIDI  Financial District   \n",
       "3       Cozy room in sunny historic Greenpoint home          Greenpoint   \n",
       "4                                         B's Suite  Bedford-Stuyvesant   \n",
       "\n",
       "  number_of_reviews  review_scores_rating  \\\n",
       "0                 0                   NaN   \n",
       "1                24                 100.0   \n",
       "2                 0                   NaN   \n",
       "3                12                  98.0   \n",
       "4                13                  92.0   \n",
       "\n",
       "                                       thumbnail_url zipcode bedrooms  beds  \\\n",
       "0  https://a0.muscache.com/im/pictures/b43127ee-b...   11385      1.0   1.0   \n",
       "1  https://a0.muscache.com/im/pictures/894d8ca5-7...   90068      1.0   1.0   \n",
       "2                                                NaN   10006      1.0   1.0   \n",
       "3  https://a0.muscache.com/im/pictures/6c99615c-4...   11222      1.0   1.0   \n",
       "4  https://a0.muscache.com/im/pictures/56275358/c...   11216      2.0   3.0   \n",
       "\n",
       "       \n",
       "0 NaN  \n",
       "1 NaN  \n",
       "2 NaN  \n",
       "3 NaN  \n",
       "4 NaN  \n",
       "\n",
       "[5 rows x 29 columns]"
      ]
     },
     "execution_count": 5,
     "metadata": {},
     "output_type": "execute_result"
    }
   ],
   "source": [
    "data_test.head()"
   ]
  },
  {
   "cell_type": "markdown",
   "metadata": {},
   "source": [
    "# 2) DATA PREPROCESSING AND FEATURE ENGINEERING (EDA)"
   ]
  },
  {
   "cell_type": "code",
   "execution_count": 6,
   "metadata": {},
   "outputs": [
    {
     "data": {
      "text/plain": [
       "((49999, 30), (24111, 29))"
      ]
     },
     "execution_count": 6,
     "metadata": {},
     "output_type": "execute_result"
    }
   ],
   "source": [
    "data_train.shape, data_test.shape ## Checking No of rows and column in datasets"
   ]
  },
  {
   "cell_type": "code",
   "execution_count": 7,
   "metadata": {},
   "outputs": [
    {
     "data": {
      "text/plain": [
       "id                          int64\n",
       "property_type              object\n",
       "room_type                  object\n",
       "amenities                  object\n",
       "accommodates                int64\n",
       "bathrooms                 float64\n",
       "bed_type                   object\n",
       "cancellation_policy        object\n",
       "cleaning_fee                 bool\n",
       "city                       object\n",
       "description                object\n",
       "first_review               object\n",
       "host_has_profile_pic       object\n",
       "host_identity_verified     object\n",
       "host_response_rate         object\n",
       "host_since                 object\n",
       "instant_bookable           object\n",
       "last_review                object\n",
       "latitude                  float64\n",
       "longitude                 float64\n",
       "name                       object\n",
       "neighbourhood              object\n",
       "number_of_reviews           int64\n",
       "review_scores_rating      float64\n",
       "thumbnail_url              object\n",
       "zipcode                    object\n",
       "bedrooms                  float64\n",
       "beds                      float64\n",
       "log_price                 float64\n",
       "                          float64\n",
       "dtype: object"
      ]
     },
     "execution_count": 7,
     "metadata": {},
     "output_type": "execute_result"
    }
   ],
   "source": [
    "data_train.dtypes # Checking datatypes of datasets"
   ]
  },
  {
   "cell_type": "code",
   "execution_count": 8,
   "metadata": {},
   "outputs": [
    {
     "data": {
      "text/plain": [
       "id                                 int64\n",
       "property_type                     object\n",
       "room_type                         object\n",
       "amenities                         object\n",
       "accommodates                       int64\n",
       "bathrooms                        float64\n",
       "bed_type                          object\n",
       "cancellation_policy               object\n",
       "cleaning_fee                        bool\n",
       "city                              object\n",
       "description                       object\n",
       "first_review              datetime64[ns]\n",
       "host_has_profile_pic              object\n",
       "host_identity_verified            object\n",
       "host_response_rate               float64\n",
       "host_since                datetime64[ns]\n",
       "instant_bookable                  object\n",
       "last_review               datetime64[ns]\n",
       "latitude                         float64\n",
       "longitude                        float64\n",
       "name                              object\n",
       "neighbourhood                     object\n",
       "number_of_reviews                  int64\n",
       "review_scores_rating             float64\n",
       "thumbnail_url                     object\n",
       "zipcode                           object\n",
       "bedrooms                         float64\n",
       "beds                             float64\n",
       "                                 float64\n",
       "dtype: object"
      ]
     },
     "execution_count": 8,
     "metadata": {},
     "output_type": "execute_result"
    }
   ],
   "source": [
    "data_test.dtypes # Checking datatypes of datasets"
   ]
  },
  {
   "cell_type": "code",
   "execution_count": 9,
   "metadata": {},
   "outputs": [
    {
     "data": {
      "text/html": [
       "<div>\n",
       "<style scoped>\n",
       "    .dataframe tbody tr th:only-of-type {\n",
       "        vertical-align: middle;\n",
       "    }\n",
       "\n",
       "    .dataframe tbody tr th {\n",
       "        vertical-align: top;\n",
       "    }\n",
       "\n",
       "    .dataframe thead th {\n",
       "        text-align: right;\n",
       "    }\n",
       "</style>\n",
       "<table border=\"1\" class=\"dataframe\">\n",
       "  <thead>\n",
       "    <tr style=\"text-align: right;\">\n",
       "      <th></th>\n",
       "      <th>id</th>\n",
       "      <th>accommodates</th>\n",
       "      <th>bathrooms</th>\n",
       "      <th>latitude</th>\n",
       "      <th>longitude</th>\n",
       "      <th>number_of_reviews</th>\n",
       "      <th>review_scores_rating</th>\n",
       "      <th>bedrooms</th>\n",
       "      <th>beds</th>\n",
       "      <th>log_price</th>\n",
       "      <th></th>\n",
       "    </tr>\n",
       "  </thead>\n",
       "  <tbody>\n",
       "    <tr>\n",
       "      <td>count</td>\n",
       "      <td>4.999900e+04</td>\n",
       "      <td>49999.000000</td>\n",
       "      <td>49853.000000</td>\n",
       "      <td>49999.000000</td>\n",
       "      <td>49999.000000</td>\n",
       "      <td>49999.000000</td>\n",
       "      <td>38698.000000</td>\n",
       "      <td>49937.000000</td>\n",
       "      <td>49908.000000</td>\n",
       "      <td>49999.000000</td>\n",
       "      <td>0.0</td>\n",
       "    </tr>\n",
       "    <tr>\n",
       "      <td>mean</td>\n",
       "      <td>1.125866e+07</td>\n",
       "      <td>3.157563</td>\n",
       "      <td>1.235151</td>\n",
       "      <td>38.440220</td>\n",
       "      <td>-92.446264</td>\n",
       "      <td>21.000380</td>\n",
       "      <td>94.055972</td>\n",
       "      <td>1.266776</td>\n",
       "      <td>1.712431</td>\n",
       "      <td>4.781831</td>\n",
       "      <td>NaN</td>\n",
       "    </tr>\n",
       "    <tr>\n",
       "      <td>std</td>\n",
       "      <td>6.086302e+06</td>\n",
       "      <td>2.165059</td>\n",
       "      <td>0.582082</td>\n",
       "      <td>3.082650</td>\n",
       "      <td>21.719824</td>\n",
       "      <td>38.131564</td>\n",
       "      <td>7.870579</td>\n",
       "      <td>0.853917</td>\n",
       "      <td>1.259860</td>\n",
       "      <td>0.716910</td>\n",
       "      <td>NaN</td>\n",
       "    </tr>\n",
       "    <tr>\n",
       "      <td>min</td>\n",
       "      <td>3.440000e+02</td>\n",
       "      <td>1.000000</td>\n",
       "      <td>0.000000</td>\n",
       "      <td>33.338905</td>\n",
       "      <td>-122.511500</td>\n",
       "      <td>0.000000</td>\n",
       "      <td>20.000000</td>\n",
       "      <td>0.000000</td>\n",
       "      <td>0.000000</td>\n",
       "      <td>1.609438</td>\n",
       "      <td>NaN</td>\n",
       "    </tr>\n",
       "    <tr>\n",
       "      <td>25%</td>\n",
       "      <td>6.245858e+06</td>\n",
       "      <td>2.000000</td>\n",
       "      <td>1.000000</td>\n",
       "      <td>34.124873</td>\n",
       "      <td>-118.343090</td>\n",
       "      <td>1.000000</td>\n",
       "      <td>92.000000</td>\n",
       "      <td>1.000000</td>\n",
       "      <td>1.000000</td>\n",
       "      <td>4.317488</td>\n",
       "      <td>NaN</td>\n",
       "    </tr>\n",
       "    <tr>\n",
       "      <td>50%</td>\n",
       "      <td>1.225244e+07</td>\n",
       "      <td>2.000000</td>\n",
       "      <td>1.000000</td>\n",
       "      <td>40.662201</td>\n",
       "      <td>-76.997679</td>\n",
       "      <td>6.000000</td>\n",
       "      <td>96.000000</td>\n",
       "      <td>1.000000</td>\n",
       "      <td>1.000000</td>\n",
       "      <td>4.709530</td>\n",
       "      <td>NaN</td>\n",
       "    </tr>\n",
       "    <tr>\n",
       "      <td>75%</td>\n",
       "      <td>1.641108e+07</td>\n",
       "      <td>4.000000</td>\n",
       "      <td>1.000000</td>\n",
       "      <td>40.745985</td>\n",
       "      <td>-73.954598</td>\n",
       "      <td>24.000000</td>\n",
       "      <td>100.000000</td>\n",
       "      <td>1.000000</td>\n",
       "      <td>2.000000</td>\n",
       "      <td>5.220356</td>\n",
       "      <td>NaN</td>\n",
       "    </tr>\n",
       "    <tr>\n",
       "      <td>max</td>\n",
       "      <td>2.122836e+07</td>\n",
       "      <td>16.000000</td>\n",
       "      <td>8.000000</td>\n",
       "      <td>42.390437</td>\n",
       "      <td>-70.985047</td>\n",
       "      <td>605.000000</td>\n",
       "      <td>100.000000</td>\n",
       "      <td>10.000000</td>\n",
       "      <td>16.000000</td>\n",
       "      <td>7.600402</td>\n",
       "      <td>NaN</td>\n",
       "    </tr>\n",
       "  </tbody>\n",
       "</table>\n",
       "</div>"
      ],
      "text/plain": [
       "                 id  accommodates     bathrooms      latitude     longitude  \\\n",
       "count  4.999900e+04  49999.000000  49853.000000  49999.000000  49999.000000   \n",
       "mean   1.125866e+07      3.157563      1.235151     38.440220    -92.446264   \n",
       "std    6.086302e+06      2.165059      0.582082      3.082650     21.719824   \n",
       "min    3.440000e+02      1.000000      0.000000     33.338905   -122.511500   \n",
       "25%    6.245858e+06      2.000000      1.000000     34.124873   -118.343090   \n",
       "50%    1.225244e+07      2.000000      1.000000     40.662201    -76.997679   \n",
       "75%    1.641108e+07      4.000000      1.000000     40.745985    -73.954598   \n",
       "max    2.122836e+07     16.000000      8.000000     42.390437    -70.985047   \n",
       "\n",
       "       number_of_reviews  review_scores_rating      bedrooms          beds  \\\n",
       "count       49999.000000          38698.000000  49937.000000  49908.000000   \n",
       "mean           21.000380             94.055972      1.266776      1.712431   \n",
       "std            38.131564              7.870579      0.853917      1.259860   \n",
       "min             0.000000             20.000000      0.000000      0.000000   \n",
       "25%             1.000000             92.000000      1.000000      1.000000   \n",
       "50%             6.000000             96.000000      1.000000      1.000000   \n",
       "75%            24.000000            100.000000      1.000000      2.000000   \n",
       "max           605.000000            100.000000     10.000000     16.000000   \n",
       "\n",
       "          log_price       \n",
       "count  49999.000000  0.0  \n",
       "mean       4.781831  NaN  \n",
       "std        0.716910  NaN  \n",
       "min        1.609438  NaN  \n",
       "25%        4.317488  NaN  \n",
       "50%        4.709530  NaN  \n",
       "75%        5.220356  NaN  \n",
       "max        7.600402  NaN  "
      ]
     },
     "execution_count": 9,
     "metadata": {},
     "output_type": "execute_result"
    }
   ],
   "source": [
    "data_train.describe() ## Checking Mean STD of Datasets"
   ]
  },
  {
   "cell_type": "code",
   "execution_count": 10,
   "metadata": {},
   "outputs": [
    {
     "data": {
      "text/html": [
       "<div>\n",
       "<style scoped>\n",
       "    .dataframe tbody tr th:only-of-type {\n",
       "        vertical-align: middle;\n",
       "    }\n",
       "\n",
       "    .dataframe tbody tr th {\n",
       "        vertical-align: top;\n",
       "    }\n",
       "\n",
       "    .dataframe thead th {\n",
       "        text-align: right;\n",
       "    }\n",
       "</style>\n",
       "<table border=\"1\" class=\"dataframe\">\n",
       "  <thead>\n",
       "    <tr style=\"text-align: right;\">\n",
       "      <th></th>\n",
       "      <th>id</th>\n",
       "      <th>accommodates</th>\n",
       "      <th>bathrooms</th>\n",
       "      <th>host_response_rate</th>\n",
       "      <th>latitude</th>\n",
       "      <th>longitude</th>\n",
       "      <th>number_of_reviews</th>\n",
       "      <th>review_scores_rating</th>\n",
       "      <th>bedrooms</th>\n",
       "      <th>beds</th>\n",
       "      <th></th>\n",
       "    </tr>\n",
       "  </thead>\n",
       "  <tbody>\n",
       "    <tr>\n",
       "      <td>count</td>\n",
       "      <td>2.411100e+04</td>\n",
       "      <td>24111.000000</td>\n",
       "      <td>24057.000000</td>\n",
       "      <td>18150.000000</td>\n",
       "      <td>24111.000000</td>\n",
       "      <td>24111.000000</td>\n",
       "      <td>24111.000000</td>\n",
       "      <td>18690.000000</td>\n",
       "      <td>24082.000000</td>\n",
       "      <td>24071.000000</td>\n",
       "      <td>0.0</td>\n",
       "    </tr>\n",
       "    <tr>\n",
       "      <td>mean</td>\n",
       "      <td>1.128284e+07</td>\n",
       "      <td>3.150222</td>\n",
       "      <td>1.235503</td>\n",
       "      <td>0.944765</td>\n",
       "      <td>38.457759</td>\n",
       "      <td>-92.297225</td>\n",
       "      <td>20.694330</td>\n",
       "      <td>94.091332</td>\n",
       "      <td>1.263765</td>\n",
       "      <td>1.707657</td>\n",
       "      <td>NaN</td>\n",
       "    </tr>\n",
       "    <tr>\n",
       "      <td>std</td>\n",
       "      <td>6.072319e+06</td>\n",
       "      <td>2.129642</td>\n",
       "      <td>0.581988</td>\n",
       "      <td>0.161063</td>\n",
       "      <td>3.075066</td>\n",
       "      <td>21.675444</td>\n",
       "      <td>37.193163</td>\n",
       "      <td>7.765832</td>\n",
       "      <td>0.848485</td>\n",
       "      <td>1.242239</td>\n",
       "      <td>NaN</td>\n",
       "    </tr>\n",
       "    <tr>\n",
       "      <td>min</td>\n",
       "      <td>3.330000e+03</td>\n",
       "      <td>1.000000</td>\n",
       "      <td>0.000000</td>\n",
       "      <td>0.000000</td>\n",
       "      <td>33.339002</td>\n",
       "      <td>-122.510941</td>\n",
       "      <td>0.000000</td>\n",
       "      <td>20.000000</td>\n",
       "      <td>0.000000</td>\n",
       "      <td>0.000000</td>\n",
       "      <td>NaN</td>\n",
       "    </tr>\n",
       "    <tr>\n",
       "      <td>25%</td>\n",
       "      <td>6.289926e+06</td>\n",
       "      <td>2.000000</td>\n",
       "      <td>1.000000</td>\n",
       "      <td>1.000000</td>\n",
       "      <td>34.132860</td>\n",
       "      <td>-118.340694</td>\n",
       "      <td>1.000000</td>\n",
       "      <td>92.000000</td>\n",
       "      <td>1.000000</td>\n",
       "      <td>1.000000</td>\n",
       "      <td>NaN</td>\n",
       "    </tr>\n",
       "    <tr>\n",
       "      <td>50%</td>\n",
       "      <td>1.227131e+07</td>\n",
       "      <td>2.000000</td>\n",
       "      <td>1.000000</td>\n",
       "      <td>1.000000</td>\n",
       "      <td>40.661910</td>\n",
       "      <td>-76.995613</td>\n",
       "      <td>6.000000</td>\n",
       "      <td>96.000000</td>\n",
       "      <td>1.000000</td>\n",
       "      <td>1.000000</td>\n",
       "      <td>NaN</td>\n",
       "    </tr>\n",
       "    <tr>\n",
       "      <td>75%</td>\n",
       "      <td>1.638105e+07</td>\n",
       "      <td>4.000000</td>\n",
       "      <td>1.000000</td>\n",
       "      <td>1.000000</td>\n",
       "      <td>40.746337</td>\n",
       "      <td>-73.954747</td>\n",
       "      <td>23.000000</td>\n",
       "      <td>100.000000</td>\n",
       "      <td>1.000000</td>\n",
       "      <td>2.000000</td>\n",
       "      <td>NaN</td>\n",
       "    </tr>\n",
       "    <tr>\n",
       "      <td>max</td>\n",
       "      <td>2.123090e+07</td>\n",
       "      <td>16.000000</td>\n",
       "      <td>8.000000</td>\n",
       "      <td>1.000000</td>\n",
       "      <td>42.390248</td>\n",
       "      <td>-70.989359</td>\n",
       "      <td>505.000000</td>\n",
       "      <td>100.000000</td>\n",
       "      <td>10.000000</td>\n",
       "      <td>18.000000</td>\n",
       "      <td>NaN</td>\n",
       "    </tr>\n",
       "  </tbody>\n",
       "</table>\n",
       "</div>"
      ],
      "text/plain": [
       "                 id  accommodates     bathrooms  host_response_rate  \\\n",
       "count  2.411100e+04  24111.000000  24057.000000        18150.000000   \n",
       "mean   1.128284e+07      3.150222      1.235503            0.944765   \n",
       "std    6.072319e+06      2.129642      0.581988            0.161063   \n",
       "min    3.330000e+03      1.000000      0.000000            0.000000   \n",
       "25%    6.289926e+06      2.000000      1.000000            1.000000   \n",
       "50%    1.227131e+07      2.000000      1.000000            1.000000   \n",
       "75%    1.638105e+07      4.000000      1.000000            1.000000   \n",
       "max    2.123090e+07     16.000000      8.000000            1.000000   \n",
       "\n",
       "           latitude     longitude  number_of_reviews  review_scores_rating  \\\n",
       "count  24111.000000  24111.000000       24111.000000          18690.000000   \n",
       "mean      38.457759    -92.297225          20.694330             94.091332   \n",
       "std        3.075066     21.675444          37.193163              7.765832   \n",
       "min       33.339002   -122.510941           0.000000             20.000000   \n",
       "25%       34.132860   -118.340694           1.000000             92.000000   \n",
       "50%       40.661910    -76.995613           6.000000             96.000000   \n",
       "75%       40.746337    -73.954747          23.000000            100.000000   \n",
       "max       42.390248    -70.989359         505.000000            100.000000   \n",
       "\n",
       "           bedrooms          beds       \n",
       "count  24082.000000  24071.000000  0.0  \n",
       "mean       1.263765      1.707657  NaN  \n",
       "std        0.848485      1.242239  NaN  \n",
       "min        0.000000      0.000000  NaN  \n",
       "25%        1.000000      1.000000  NaN  \n",
       "50%        1.000000      1.000000  NaN  \n",
       "75%        1.000000      2.000000  NaN  \n",
       "max       10.000000     18.000000  NaN  "
      ]
     },
     "execution_count": 10,
     "metadata": {},
     "output_type": "execute_result"
    }
   ],
   "source": [
    "data_test.describe() ## Checking Mean STD of Datasets"
   ]
  },
  {
   "cell_type": "code",
   "execution_count": 11,
   "metadata": {},
   "outputs": [
    {
     "data": {
      "text/plain": [
       "Index(['id', 'property_type', 'room_type', 'amenities', 'accommodates',\n",
       "       'bathrooms', 'bed_type', 'cancellation_policy', 'cleaning_fee', 'city',\n",
       "       'description', 'first_review', 'host_has_profile_pic',\n",
       "       'host_identity_verified', 'host_response_rate', 'host_since',\n",
       "       'instant_bookable', 'last_review', 'latitude', 'longitude', 'name',\n",
       "       'neighbourhood', 'number_of_reviews', 'review_scores_rating',\n",
       "       'thumbnail_url', 'zipcode', 'bedrooms', 'beds', 'log_price', ' '],\n",
       "      dtype='object')"
      ]
     },
     "execution_count": 11,
     "metadata": {},
     "output_type": "execute_result"
    }
   ],
   "source": [
    "data_train.columns ## Checking No of Columns in Datasets"
   ]
  },
  {
   "cell_type": "code",
   "execution_count": 12,
   "metadata": {},
   "outputs": [
    {
     "data": {
      "text/plain": [
       "id                        49999\n",
       "property_type                34\n",
       "room_type                     3\n",
       "amenities                 46190\n",
       "accommodates                 16\n",
       "bathrooms                    17\n",
       "bed_type                      5\n",
       "cancellation_policy           5\n",
       "cleaning_fee                  2\n",
       "city                          6\n",
       "description               49683\n",
       "first_review               2423\n",
       "host_has_profile_pic          2\n",
       "host_identity_verified        2\n",
       "host_response_rate           77\n",
       "host_since                 3009\n",
       "instant_bookable              2\n",
       "last_review                1257\n",
       "latitude                  49976\n",
       "longitude                 49929\n",
       "name                      49629\n",
       "neighbourhood               598\n",
       "number_of_reviews           346\n",
       "review_scores_rating         53\n",
       "thumbnail_url             44399\n",
       "zipcode                     639\n",
       "bedrooms                     11\n",
       "beds                         17\n",
       "log_price                   699\n",
       "                              0\n",
       "dtype: int64"
      ]
     },
     "execution_count": 12,
     "metadata": {},
     "output_type": "execute_result"
    }
   ],
   "source": [
    "data_train.nunique(axis=0,dropna=True) ## Checking Unique value in datasets"
   ]
  },
  {
   "cell_type": "code",
   "execution_count": 13,
   "metadata": {},
   "outputs": [
    {
     "data": {
      "text/plain": [
       "id                        24111\n",
       "property_type                32\n",
       "room_type                     3\n",
       "amenities                 22899\n",
       "accommodates                 16\n",
       "bathrooms                    17\n",
       "bed_type                      5\n",
       "cancellation_policy           5\n",
       "cleaning_fee                  2\n",
       "city                          6\n",
       "description               24036\n",
       "first_review               2118\n",
       "host_has_profile_pic          2\n",
       "host_identity_verified        2\n",
       "host_response_rate           71\n",
       "host_since                 2866\n",
       "instant_bookable              2\n",
       "last_review                1065\n",
       "latitude                  24103\n",
       "longitude                 24101\n",
       "name                      24019\n",
       "neighbourhood               566\n",
       "number_of_reviews           297\n",
       "review_scores_rating         48\n",
       "thumbnail_url             21490\n",
       "zipcode                     603\n",
       "bedrooms                     11\n",
       "beds                         17\n",
       "                              0\n",
       "dtype: int64"
      ]
     },
     "execution_count": 13,
     "metadata": {},
     "output_type": "execute_result"
    }
   ],
   "source": [
    "data_test.nunique(axis=0,dropna=True) ## Checking Unique value in datasets"
   ]
  },
  {
   "cell_type": "markdown",
   "metadata": {},
   "source": [
    "##### Dropping Unwanted Columns"
   ]
  },
  {
   "cell_type": "code",
   "execution_count": 14,
   "metadata": {},
   "outputs": [],
   "source": [
    "data_train.drop([\"amenities\",\"description\",\"latitude\",\"longitude\",\"name\",\"thumbnail_url\", \" \",\"zipcode\"],1,inplace = True)"
   ]
  },
  {
   "cell_type": "code",
   "execution_count": 15,
   "metadata": {},
   "outputs": [],
   "source": [
    "data_test.drop([\"amenities\",\"description\",\"latitude\",\"longitude\",\"name\",\"thumbnail_url\", \" \",\"zipcode\"],1,inplace = True)"
   ]
  },
  {
   "cell_type": "code",
   "execution_count": 16,
   "metadata": {},
   "outputs": [
    {
     "data": {
      "text/html": [
       "<div>\n",
       "<style scoped>\n",
       "    .dataframe tbody tr th:only-of-type {\n",
       "        vertical-align: middle;\n",
       "    }\n",
       "\n",
       "    .dataframe tbody tr th {\n",
       "        vertical-align: top;\n",
       "    }\n",
       "\n",
       "    .dataframe thead th {\n",
       "        text-align: right;\n",
       "    }\n",
       "</style>\n",
       "<table border=\"1\" class=\"dataframe\">\n",
       "  <thead>\n",
       "    <tr style=\"text-align: right;\">\n",
       "      <th></th>\n",
       "      <th>id</th>\n",
       "      <th>property_type</th>\n",
       "      <th>room_type</th>\n",
       "      <th>accommodates</th>\n",
       "      <th>bathrooms</th>\n",
       "      <th>bed_type</th>\n",
       "      <th>cancellation_policy</th>\n",
       "      <th>cleaning_fee</th>\n",
       "      <th>city</th>\n",
       "      <th>first_review</th>\n",
       "      <th>...</th>\n",
       "      <th>host_response_rate</th>\n",
       "      <th>host_since</th>\n",
       "      <th>instant_bookable</th>\n",
       "      <th>last_review</th>\n",
       "      <th>neighbourhood</th>\n",
       "      <th>number_of_reviews</th>\n",
       "      <th>review_scores_rating</th>\n",
       "      <th>bedrooms</th>\n",
       "      <th>beds</th>\n",
       "      <th>log_price</th>\n",
       "    </tr>\n",
       "  </thead>\n",
       "  <tbody>\n",
       "    <tr>\n",
       "      <td>0</td>\n",
       "      <td>6901257</td>\n",
       "      <td>Apartment</td>\n",
       "      <td>Entire home/apt</td>\n",
       "      <td>3</td>\n",
       "      <td>1.0</td>\n",
       "      <td>Real Bed</td>\n",
       "      <td>strict</td>\n",
       "      <td>True</td>\n",
       "      <td>NYC</td>\n",
       "      <td>6/18/2016</td>\n",
       "      <td>...</td>\n",
       "      <td>NaN</td>\n",
       "      <td>3/26/2012</td>\n",
       "      <td>f</td>\n",
       "      <td>7/18/2016</td>\n",
       "      <td>Brooklyn Heights</td>\n",
       "      <td>2</td>\n",
       "      <td>100.0</td>\n",
       "      <td>1.0</td>\n",
       "      <td>1.0</td>\n",
       "      <td>5.010635</td>\n",
       "    </tr>\n",
       "    <tr>\n",
       "      <td>1</td>\n",
       "      <td>6304928</td>\n",
       "      <td>Apartment</td>\n",
       "      <td>Entire home/apt</td>\n",
       "      <td>7</td>\n",
       "      <td>1.0</td>\n",
       "      <td>Real Bed</td>\n",
       "      <td>strict</td>\n",
       "      <td>True</td>\n",
       "      <td>NYC</td>\n",
       "      <td>8/5/2017</td>\n",
       "      <td>...</td>\n",
       "      <td>100%</td>\n",
       "      <td>6/19/2017</td>\n",
       "      <td>t</td>\n",
       "      <td>9/23/2017</td>\n",
       "      <td>Hell's Kitchen</td>\n",
       "      <td>6</td>\n",
       "      <td>93.0</td>\n",
       "      <td>3.0</td>\n",
       "      <td>3.0</td>\n",
       "      <td>5.129899</td>\n",
       "    </tr>\n",
       "    <tr>\n",
       "      <td>2</td>\n",
       "      <td>7919400</td>\n",
       "      <td>Apartment</td>\n",
       "      <td>Entire home/apt</td>\n",
       "      <td>5</td>\n",
       "      <td>1.0</td>\n",
       "      <td>Real Bed</td>\n",
       "      <td>moderate</td>\n",
       "      <td>True</td>\n",
       "      <td>NYC</td>\n",
       "      <td>4/30/2017</td>\n",
       "      <td>...</td>\n",
       "      <td>100%</td>\n",
       "      <td>10/25/2016</td>\n",
       "      <td>t</td>\n",
       "      <td>9/14/2017</td>\n",
       "      <td>Harlem</td>\n",
       "      <td>10</td>\n",
       "      <td>92.0</td>\n",
       "      <td>1.0</td>\n",
       "      <td>3.0</td>\n",
       "      <td>4.976734</td>\n",
       "    </tr>\n",
       "    <tr>\n",
       "      <td>3</td>\n",
       "      <td>13418779</td>\n",
       "      <td>House</td>\n",
       "      <td>Entire home/apt</td>\n",
       "      <td>4</td>\n",
       "      <td>1.0</td>\n",
       "      <td>Real Bed</td>\n",
       "      <td>flexible</td>\n",
       "      <td>True</td>\n",
       "      <td>SF</td>\n",
       "      <td>NaN</td>\n",
       "      <td>...</td>\n",
       "      <td>NaN</td>\n",
       "      <td>4/19/2015</td>\n",
       "      <td>f</td>\n",
       "      <td>NaN</td>\n",
       "      <td>Lower Haight</td>\n",
       "      <td>0</td>\n",
       "      <td>NaN</td>\n",
       "      <td>2.0</td>\n",
       "      <td>2.0</td>\n",
       "      <td>6.620073</td>\n",
       "    </tr>\n",
       "    <tr>\n",
       "      <td>4</td>\n",
       "      <td>3808709</td>\n",
       "      <td>Apartment</td>\n",
       "      <td>Entire home/apt</td>\n",
       "      <td>2</td>\n",
       "      <td>1.0</td>\n",
       "      <td>Real Bed</td>\n",
       "      <td>moderate</td>\n",
       "      <td>True</td>\n",
       "      <td>DC</td>\n",
       "      <td>5/12/2015</td>\n",
       "      <td>...</td>\n",
       "      <td>100%</td>\n",
       "      <td>3/1/2015</td>\n",
       "      <td>t</td>\n",
       "      <td>1/22/2017</td>\n",
       "      <td>Columbia Heights</td>\n",
       "      <td>4</td>\n",
       "      <td>40.0</td>\n",
       "      <td>0.0</td>\n",
       "      <td>1.0</td>\n",
       "      <td>4.744932</td>\n",
       "    </tr>\n",
       "  </tbody>\n",
       "</table>\n",
       "<p>5 rows × 22 columns</p>\n",
       "</div>"
      ],
      "text/plain": [
       "         id property_type        room_type  accommodates  bathrooms  bed_type  \\\n",
       "0   6901257     Apartment  Entire home/apt             3        1.0  Real Bed   \n",
       "1   6304928     Apartment  Entire home/apt             7        1.0  Real Bed   \n",
       "2   7919400     Apartment  Entire home/apt             5        1.0  Real Bed   \n",
       "3  13418779         House  Entire home/apt             4        1.0  Real Bed   \n",
       "4   3808709     Apartment  Entire home/apt             2        1.0  Real Bed   \n",
       "\n",
       "  cancellation_policy  cleaning_fee city first_review  ... host_response_rate  \\\n",
       "0              strict          True  NYC    6/18/2016  ...                NaN   \n",
       "1              strict          True  NYC     8/5/2017  ...               100%   \n",
       "2            moderate          True  NYC    4/30/2017  ...               100%   \n",
       "3            flexible          True   SF          NaN  ...                NaN   \n",
       "4            moderate          True   DC    5/12/2015  ...               100%   \n",
       "\n",
       "   host_since instant_bookable last_review     neighbourhood  \\\n",
       "0   3/26/2012                f   7/18/2016  Brooklyn Heights   \n",
       "1   6/19/2017                t   9/23/2017    Hell's Kitchen   \n",
       "2  10/25/2016                t   9/14/2017            Harlem   \n",
       "3   4/19/2015                f         NaN      Lower Haight   \n",
       "4    3/1/2015                t   1/22/2017  Columbia Heights   \n",
       "\n",
       "  number_of_reviews review_scores_rating  bedrooms  beds  log_price  \n",
       "0                 2                100.0       1.0   1.0   5.010635  \n",
       "1                 6                 93.0       3.0   3.0   5.129899  \n",
       "2                10                 92.0       1.0   3.0   4.976734  \n",
       "3                 0                  NaN       2.0   2.0   6.620073  \n",
       "4                 4                 40.0       0.0   1.0   4.744932  \n",
       "\n",
       "[5 rows x 22 columns]"
      ]
     },
     "execution_count": 16,
     "metadata": {},
     "output_type": "execute_result"
    }
   ],
   "source": [
    "data_train.head()"
   ]
  },
  {
   "cell_type": "code",
   "execution_count": 17,
   "metadata": {},
   "outputs": [
    {
     "data": {
      "text/html": [
       "<div>\n",
       "<style scoped>\n",
       "    .dataframe tbody tr th:only-of-type {\n",
       "        vertical-align: middle;\n",
       "    }\n",
       "\n",
       "    .dataframe tbody tr th {\n",
       "        vertical-align: top;\n",
       "    }\n",
       "\n",
       "    .dataframe thead th {\n",
       "        text-align: right;\n",
       "    }\n",
       "</style>\n",
       "<table border=\"1\" class=\"dataframe\">\n",
       "  <thead>\n",
       "    <tr style=\"text-align: right;\">\n",
       "      <th></th>\n",
       "      <th>id</th>\n",
       "      <th>property_type</th>\n",
       "      <th>room_type</th>\n",
       "      <th>accommodates</th>\n",
       "      <th>bathrooms</th>\n",
       "      <th>bed_type</th>\n",
       "      <th>cancellation_policy</th>\n",
       "      <th>cleaning_fee</th>\n",
       "      <th>city</th>\n",
       "      <th>first_review</th>\n",
       "      <th>...</th>\n",
       "      <th>host_identity_verified</th>\n",
       "      <th>host_response_rate</th>\n",
       "      <th>host_since</th>\n",
       "      <th>instant_bookable</th>\n",
       "      <th>last_review</th>\n",
       "      <th>neighbourhood</th>\n",
       "      <th>number_of_reviews</th>\n",
       "      <th>review_scores_rating</th>\n",
       "      <th>bedrooms</th>\n",
       "      <th>beds</th>\n",
       "    </tr>\n",
       "  </thead>\n",
       "  <tbody>\n",
       "    <tr>\n",
       "      <td>0</td>\n",
       "      <td>5979389</td>\n",
       "      <td>Apartment</td>\n",
       "      <td>Private room</td>\n",
       "      <td>2</td>\n",
       "      <td>1.0</td>\n",
       "      <td>Real Bed</td>\n",
       "      <td>strict</td>\n",
       "      <td>True</td>\n",
       "      <td>NYC</td>\n",
       "      <td>NaT</td>\n",
       "      <td>...</td>\n",
       "      <td>t</td>\n",
       "      <td>1.0</td>\n",
       "      <td>2015-05-29</td>\n",
       "      <td>f</td>\n",
       "      <td>NaT</td>\n",
       "      <td>Ridgewood</td>\n",
       "      <td>0</td>\n",
       "      <td>NaN</td>\n",
       "      <td>1.0</td>\n",
       "      <td>1.0</td>\n",
       "    </tr>\n",
       "    <tr>\n",
       "      <td>1</td>\n",
       "      <td>13488121</td>\n",
       "      <td>Apartment</td>\n",
       "      <td>Entire home/apt</td>\n",
       "      <td>4</td>\n",
       "      <td>1.0</td>\n",
       "      <td>Real Bed</td>\n",
       "      <td>moderate</td>\n",
       "      <td>True</td>\n",
       "      <td>LA</td>\n",
       "      <td>2015-11-16</td>\n",
       "      <td>...</td>\n",
       "      <td>t</td>\n",
       "      <td>1.0</td>\n",
       "      <td>2015-08-17</td>\n",
       "      <td>f</td>\n",
       "      <td>2017-04-23</td>\n",
       "      <td>Hollywood Hills</td>\n",
       "      <td>24</td>\n",
       "      <td>100.0</td>\n",
       "      <td>1.0</td>\n",
       "      <td>1.0</td>\n",
       "    </tr>\n",
       "    <tr>\n",
       "      <td>2</td>\n",
       "      <td>8121643</td>\n",
       "      <td>Apartment</td>\n",
       "      <td>Private room</td>\n",
       "      <td>2</td>\n",
       "      <td>1.0</td>\n",
       "      <td>Real Bed</td>\n",
       "      <td>flexible</td>\n",
       "      <td>False</td>\n",
       "      <td>NYC</td>\n",
       "      <td>NaT</td>\n",
       "      <td>...</td>\n",
       "      <td>f</td>\n",
       "      <td>NaN</td>\n",
       "      <td>2012-06-18</td>\n",
       "      <td>f</td>\n",
       "      <td>NaT</td>\n",
       "      <td>Financial District</td>\n",
       "      <td>0</td>\n",
       "      <td>NaN</td>\n",
       "      <td>1.0</td>\n",
       "      <td>1.0</td>\n",
       "    </tr>\n",
       "    <tr>\n",
       "      <td>3</td>\n",
       "      <td>16490010</td>\n",
       "      <td>Apartment</td>\n",
       "      <td>Private room</td>\n",
       "      <td>2</td>\n",
       "      <td>1.0</td>\n",
       "      <td>Real Bed</td>\n",
       "      <td>flexible</td>\n",
       "      <td>True</td>\n",
       "      <td>NYC</td>\n",
       "      <td>2016-09-29</td>\n",
       "      <td>...</td>\n",
       "      <td>t</td>\n",
       "      <td>1.0</td>\n",
       "      <td>2011-12-12</td>\n",
       "      <td>f</td>\n",
       "      <td>2017-09-24</td>\n",
       "      <td>Greenpoint</td>\n",
       "      <td>12</td>\n",
       "      <td>98.0</td>\n",
       "      <td>1.0</td>\n",
       "      <td>1.0</td>\n",
       "    </tr>\n",
       "    <tr>\n",
       "      <td>4</td>\n",
       "      <td>16274069</td>\n",
       "      <td>Apartment</td>\n",
       "      <td>Entire home/apt</td>\n",
       "      <td>4</td>\n",
       "      <td>1.0</td>\n",
       "      <td>Real Bed</td>\n",
       "      <td>moderate</td>\n",
       "      <td>True</td>\n",
       "      <td>NYC</td>\n",
       "      <td>2015-01-05</td>\n",
       "      <td>...</td>\n",
       "      <td>f</td>\n",
       "      <td>1.0</td>\n",
       "      <td>2014-11-02</td>\n",
       "      <td>f</td>\n",
       "      <td>2017-09-14</td>\n",
       "      <td>Bedford-Stuyvesant</td>\n",
       "      <td>13</td>\n",
       "      <td>92.0</td>\n",
       "      <td>2.0</td>\n",
       "      <td>3.0</td>\n",
       "    </tr>\n",
       "  </tbody>\n",
       "</table>\n",
       "<p>5 rows × 21 columns</p>\n",
       "</div>"
      ],
      "text/plain": [
       "         id property_type        room_type  accommodates  bathrooms  bed_type  \\\n",
       "0   5979389     Apartment     Private room             2        1.0  Real Bed   \n",
       "1  13488121     Apartment  Entire home/apt             4        1.0  Real Bed   \n",
       "2   8121643     Apartment     Private room             2        1.0  Real Bed   \n",
       "3  16490010     Apartment     Private room             2        1.0  Real Bed   \n",
       "4  16274069     Apartment  Entire home/apt             4        1.0  Real Bed   \n",
       "\n",
       "  cancellation_policy  cleaning_fee city first_review  ...  \\\n",
       "0              strict          True  NYC          NaT  ...   \n",
       "1            moderate          True   LA   2015-11-16  ...   \n",
       "2            flexible         False  NYC          NaT  ...   \n",
       "3            flexible          True  NYC   2016-09-29  ...   \n",
       "4            moderate          True  NYC   2015-01-05  ...   \n",
       "\n",
       "  host_identity_verified host_response_rate  host_since instant_bookable  \\\n",
       "0                      t                1.0  2015-05-29                f   \n",
       "1                      t                1.0  2015-08-17                f   \n",
       "2                      f                NaN  2012-06-18                f   \n",
       "3                      t                1.0  2011-12-12                f   \n",
       "4                      f                1.0  2014-11-02                f   \n",
       "\n",
       "  last_review       neighbourhood number_of_reviews  review_scores_rating  \\\n",
       "0         NaT           Ridgewood                 0                   NaN   \n",
       "1  2017-04-23     Hollywood Hills                24                 100.0   \n",
       "2         NaT  Financial District                 0                   NaN   \n",
       "3  2017-09-24          Greenpoint                12                  98.0   \n",
       "4  2017-09-14  Bedford-Stuyvesant                13                  92.0   \n",
       "\n",
       "   bedrooms  beds  \n",
       "0       1.0   1.0  \n",
       "1       1.0   1.0  \n",
       "2       1.0   1.0  \n",
       "3       1.0   1.0  \n",
       "4       2.0   3.0  \n",
       "\n",
       "[5 rows x 21 columns]"
      ]
     },
     "execution_count": 17,
     "metadata": {},
     "output_type": "execute_result"
    }
   ],
   "source": [
    "data_test.head()"
   ]
  },
  {
   "cell_type": "code",
   "execution_count": 18,
   "metadata": {},
   "outputs": [
    {
     "data": {
      "text/plain": [
       "id                            0\n",
       "property_type                 0\n",
       "room_type                     0\n",
       "accommodates                  0\n",
       "bathrooms                   146\n",
       "bed_type                      0\n",
       "cancellation_policy           0\n",
       "cleaning_fee                  0\n",
       "city                          0\n",
       "first_review              10711\n",
       "host_has_profile_pic        127\n",
       "host_identity_verified      127\n",
       "host_response_rate        12338\n",
       "host_since                  127\n",
       "instant_bookable              0\n",
       "last_review               10683\n",
       "neighbourhood              4617\n",
       "number_of_reviews             0\n",
       "review_scores_rating      11301\n",
       "bedrooms                     62\n",
       "beds                         91\n",
       "log_price                     0\n",
       "dtype: int64"
      ]
     },
     "execution_count": 18,
     "metadata": {},
     "output_type": "execute_result"
    }
   ],
   "source": [
    "data_train.isnull().sum() ## Checking any Null Values in datasets"
   ]
  },
  {
   "cell_type": "code",
   "execution_count": 19,
   "metadata": {},
   "outputs": [
    {
     "data": {
      "text/plain": [
       "id                           0\n",
       "property_type                0\n",
       "room_type                    0\n",
       "accommodates                 0\n",
       "bathrooms                   54\n",
       "bed_type                     0\n",
       "cancellation_policy          0\n",
       "cleaning_fee                 0\n",
       "city                         0\n",
       "first_review              5153\n",
       "host_has_profile_pic        61\n",
       "host_identity_verified      61\n",
       "host_response_rate        5961\n",
       "host_since                  61\n",
       "instant_bookable             0\n",
       "last_review               5144\n",
       "neighbourhood             2255\n",
       "number_of_reviews            0\n",
       "review_scores_rating      5421\n",
       "bedrooms                    29\n",
       "beds                        40\n",
       "dtype: int64"
      ]
     },
     "execution_count": 19,
     "metadata": {},
     "output_type": "execute_result"
    }
   ],
   "source": [
    "data_test.isnull().sum() ## Checking any Null Values in datasets"
   ]
  },
  {
   "cell_type": "code",
   "execution_count": 20,
   "metadata": {},
   "outputs": [
    {
     "data": {
      "text/plain": [
       "id                         0.000000\n",
       "property_type              0.000000\n",
       "room_type                  0.000000\n",
       "accommodates               0.000000\n",
       "bathrooms                  0.292006\n",
       "bed_type                   0.000000\n",
       "cancellation_policy        0.000000\n",
       "cleaning_fee               0.000000\n",
       "city                       0.000000\n",
       "first_review              21.422428\n",
       "host_has_profile_pic       0.254005\n",
       "host_identity_verified     0.254005\n",
       "host_response_rate        24.676494\n",
       "host_since                 0.254005\n",
       "instant_bookable           0.000000\n",
       "last_review               21.366427\n",
       "neighbourhood              9.234185\n",
       "number_of_reviews          0.000000\n",
       "review_scores_rating      22.602452\n",
       "bedrooms                   0.124002\n",
       "beds                       0.182004\n",
       "log_price                  0.000000\n",
       "dtype: float64"
      ]
     },
     "execution_count": 20,
     "metadata": {},
     "output_type": "execute_result"
    }
   ],
   "source": [
    "data_train.isnull().sum()*100/len(data_train) ## Checking any Percentage Null Values in datasets"
   ]
  },
  {
   "cell_type": "code",
   "execution_count": 21,
   "metadata": {},
   "outputs": [
    {
     "data": {
      "text/plain": [
       "id                         0.000000\n",
       "property_type              0.000000\n",
       "room_type                  0.000000\n",
       "accommodates               0.000000\n",
       "bathrooms                  0.223964\n",
       "bed_type                   0.000000\n",
       "cancellation_policy        0.000000\n",
       "cleaning_fee               0.000000\n",
       "city                       0.000000\n",
       "first_review              21.371988\n",
       "host_has_profile_pic       0.252997\n",
       "host_identity_verified     0.252997\n",
       "host_response_rate        24.723155\n",
       "host_since                 0.252997\n",
       "instant_bookable           0.000000\n",
       "last_review               21.334661\n",
       "neighbourhood              9.352578\n",
       "number_of_reviews          0.000000\n",
       "review_scores_rating      22.483514\n",
       "bedrooms                   0.120277\n",
       "beds                       0.165899\n",
       "dtype: float64"
      ]
     },
     "execution_count": 21,
     "metadata": {},
     "output_type": "execute_result"
    }
   ],
   "source": [
    "data_test.isnull().sum()*100/len(data_test) ## Checking any Percentage Null Values in datasets"
   ]
  },
  {
   "cell_type": "markdown",
   "metadata": {},
   "source": [
    "#### Dropping Columns having more missing value in datasets"
   ]
  },
  {
   "cell_type": "code",
   "execution_count": 22,
   "metadata": {},
   "outputs": [],
   "source": [
    "data_train.drop([\"first_review\",\"host_response_rate\",\"last_review\",\"review_scores_rating\"],1,inplace = True)"
   ]
  },
  {
   "cell_type": "code",
   "execution_count": 23,
   "metadata": {},
   "outputs": [],
   "source": [
    "data_test.drop([\"first_review\",\"host_response_rate\",\"last_review\",\"review_scores_rating\"],1,inplace = True)"
   ]
  },
  {
   "cell_type": "code",
   "execution_count": 24,
   "metadata": {},
   "outputs": [
    {
     "data": {
      "text/html": [
       "<div>\n",
       "<style scoped>\n",
       "    .dataframe tbody tr th:only-of-type {\n",
       "        vertical-align: middle;\n",
       "    }\n",
       "\n",
       "    .dataframe tbody tr th {\n",
       "        vertical-align: top;\n",
       "    }\n",
       "\n",
       "    .dataframe thead th {\n",
       "        text-align: right;\n",
       "    }\n",
       "</style>\n",
       "<table border=\"1\" class=\"dataframe\">\n",
       "  <thead>\n",
       "    <tr style=\"text-align: right;\">\n",
       "      <th></th>\n",
       "      <th>id</th>\n",
       "      <th>property_type</th>\n",
       "      <th>room_type</th>\n",
       "      <th>accommodates</th>\n",
       "      <th>bathrooms</th>\n",
       "      <th>bed_type</th>\n",
       "      <th>cancellation_policy</th>\n",
       "      <th>cleaning_fee</th>\n",
       "      <th>city</th>\n",
       "      <th>host_has_profile_pic</th>\n",
       "      <th>host_identity_verified</th>\n",
       "      <th>host_since</th>\n",
       "      <th>instant_bookable</th>\n",
       "      <th>neighbourhood</th>\n",
       "      <th>number_of_reviews</th>\n",
       "      <th>bedrooms</th>\n",
       "      <th>beds</th>\n",
       "      <th>log_price</th>\n",
       "    </tr>\n",
       "  </thead>\n",
       "  <tbody>\n",
       "    <tr>\n",
       "      <td>0</td>\n",
       "      <td>6901257</td>\n",
       "      <td>Apartment</td>\n",
       "      <td>Entire home/apt</td>\n",
       "      <td>3</td>\n",
       "      <td>1.0</td>\n",
       "      <td>Real Bed</td>\n",
       "      <td>strict</td>\n",
       "      <td>True</td>\n",
       "      <td>NYC</td>\n",
       "      <td>t</td>\n",
       "      <td>t</td>\n",
       "      <td>3/26/2012</td>\n",
       "      <td>f</td>\n",
       "      <td>Brooklyn Heights</td>\n",
       "      <td>2</td>\n",
       "      <td>1.0</td>\n",
       "      <td>1.0</td>\n",
       "      <td>5.010635</td>\n",
       "    </tr>\n",
       "    <tr>\n",
       "      <td>1</td>\n",
       "      <td>6304928</td>\n",
       "      <td>Apartment</td>\n",
       "      <td>Entire home/apt</td>\n",
       "      <td>7</td>\n",
       "      <td>1.0</td>\n",
       "      <td>Real Bed</td>\n",
       "      <td>strict</td>\n",
       "      <td>True</td>\n",
       "      <td>NYC</td>\n",
       "      <td>t</td>\n",
       "      <td>f</td>\n",
       "      <td>6/19/2017</td>\n",
       "      <td>t</td>\n",
       "      <td>Hell's Kitchen</td>\n",
       "      <td>6</td>\n",
       "      <td>3.0</td>\n",
       "      <td>3.0</td>\n",
       "      <td>5.129899</td>\n",
       "    </tr>\n",
       "    <tr>\n",
       "      <td>2</td>\n",
       "      <td>7919400</td>\n",
       "      <td>Apartment</td>\n",
       "      <td>Entire home/apt</td>\n",
       "      <td>5</td>\n",
       "      <td>1.0</td>\n",
       "      <td>Real Bed</td>\n",
       "      <td>moderate</td>\n",
       "      <td>True</td>\n",
       "      <td>NYC</td>\n",
       "      <td>t</td>\n",
       "      <td>t</td>\n",
       "      <td>10/25/2016</td>\n",
       "      <td>t</td>\n",
       "      <td>Harlem</td>\n",
       "      <td>10</td>\n",
       "      <td>1.0</td>\n",
       "      <td>3.0</td>\n",
       "      <td>4.976734</td>\n",
       "    </tr>\n",
       "    <tr>\n",
       "      <td>3</td>\n",
       "      <td>13418779</td>\n",
       "      <td>House</td>\n",
       "      <td>Entire home/apt</td>\n",
       "      <td>4</td>\n",
       "      <td>1.0</td>\n",
       "      <td>Real Bed</td>\n",
       "      <td>flexible</td>\n",
       "      <td>True</td>\n",
       "      <td>SF</td>\n",
       "      <td>t</td>\n",
       "      <td>t</td>\n",
       "      <td>4/19/2015</td>\n",
       "      <td>f</td>\n",
       "      <td>Lower Haight</td>\n",
       "      <td>0</td>\n",
       "      <td>2.0</td>\n",
       "      <td>2.0</td>\n",
       "      <td>6.620073</td>\n",
       "    </tr>\n",
       "    <tr>\n",
       "      <td>4</td>\n",
       "      <td>3808709</td>\n",
       "      <td>Apartment</td>\n",
       "      <td>Entire home/apt</td>\n",
       "      <td>2</td>\n",
       "      <td>1.0</td>\n",
       "      <td>Real Bed</td>\n",
       "      <td>moderate</td>\n",
       "      <td>True</td>\n",
       "      <td>DC</td>\n",
       "      <td>t</td>\n",
       "      <td>t</td>\n",
       "      <td>3/1/2015</td>\n",
       "      <td>t</td>\n",
       "      <td>Columbia Heights</td>\n",
       "      <td>4</td>\n",
       "      <td>0.0</td>\n",
       "      <td>1.0</td>\n",
       "      <td>4.744932</td>\n",
       "    </tr>\n",
       "  </tbody>\n",
       "</table>\n",
       "</div>"
      ],
      "text/plain": [
       "         id property_type        room_type  accommodates  bathrooms  bed_type  \\\n",
       "0   6901257     Apartment  Entire home/apt             3        1.0  Real Bed   \n",
       "1   6304928     Apartment  Entire home/apt             7        1.0  Real Bed   \n",
       "2   7919400     Apartment  Entire home/apt             5        1.0  Real Bed   \n",
       "3  13418779         House  Entire home/apt             4        1.0  Real Bed   \n",
       "4   3808709     Apartment  Entire home/apt             2        1.0  Real Bed   \n",
       "\n",
       "  cancellation_policy  cleaning_fee city host_has_profile_pic  \\\n",
       "0              strict          True  NYC                    t   \n",
       "1              strict          True  NYC                    t   \n",
       "2            moderate          True  NYC                    t   \n",
       "3            flexible          True   SF                    t   \n",
       "4            moderate          True   DC                    t   \n",
       "\n",
       "  host_identity_verified  host_since instant_bookable     neighbourhood  \\\n",
       "0                      t   3/26/2012                f  Brooklyn Heights   \n",
       "1                      f   6/19/2017                t    Hell's Kitchen   \n",
       "2                      t  10/25/2016                t            Harlem   \n",
       "3                      t   4/19/2015                f      Lower Haight   \n",
       "4                      t    3/1/2015                t  Columbia Heights   \n",
       "\n",
       "   number_of_reviews  bedrooms  beds  log_price  \n",
       "0                  2       1.0   1.0   5.010635  \n",
       "1                  6       3.0   3.0   5.129899  \n",
       "2                 10       1.0   3.0   4.976734  \n",
       "3                  0       2.0   2.0   6.620073  \n",
       "4                  4       0.0   1.0   4.744932  "
      ]
     },
     "execution_count": 24,
     "metadata": {},
     "output_type": "execute_result"
    }
   ],
   "source": [
    "data_train.head()"
   ]
  },
  {
   "cell_type": "code",
   "execution_count": 25,
   "metadata": {},
   "outputs": [
    {
     "data": {
      "text/html": [
       "<div>\n",
       "<style scoped>\n",
       "    .dataframe tbody tr th:only-of-type {\n",
       "        vertical-align: middle;\n",
       "    }\n",
       "\n",
       "    .dataframe tbody tr th {\n",
       "        vertical-align: top;\n",
       "    }\n",
       "\n",
       "    .dataframe thead th {\n",
       "        text-align: right;\n",
       "    }\n",
       "</style>\n",
       "<table border=\"1\" class=\"dataframe\">\n",
       "  <thead>\n",
       "    <tr style=\"text-align: right;\">\n",
       "      <th></th>\n",
       "      <th>id</th>\n",
       "      <th>property_type</th>\n",
       "      <th>room_type</th>\n",
       "      <th>accommodates</th>\n",
       "      <th>bathrooms</th>\n",
       "      <th>bed_type</th>\n",
       "      <th>cancellation_policy</th>\n",
       "      <th>cleaning_fee</th>\n",
       "      <th>city</th>\n",
       "      <th>host_has_profile_pic</th>\n",
       "      <th>host_identity_verified</th>\n",
       "      <th>host_since</th>\n",
       "      <th>instant_bookable</th>\n",
       "      <th>neighbourhood</th>\n",
       "      <th>number_of_reviews</th>\n",
       "      <th>bedrooms</th>\n",
       "      <th>beds</th>\n",
       "    </tr>\n",
       "  </thead>\n",
       "  <tbody>\n",
       "    <tr>\n",
       "      <td>0</td>\n",
       "      <td>5979389</td>\n",
       "      <td>Apartment</td>\n",
       "      <td>Private room</td>\n",
       "      <td>2</td>\n",
       "      <td>1.0</td>\n",
       "      <td>Real Bed</td>\n",
       "      <td>strict</td>\n",
       "      <td>True</td>\n",
       "      <td>NYC</td>\n",
       "      <td>t</td>\n",
       "      <td>t</td>\n",
       "      <td>2015-05-29</td>\n",
       "      <td>f</td>\n",
       "      <td>Ridgewood</td>\n",
       "      <td>0</td>\n",
       "      <td>1.0</td>\n",
       "      <td>1.0</td>\n",
       "    </tr>\n",
       "    <tr>\n",
       "      <td>1</td>\n",
       "      <td>13488121</td>\n",
       "      <td>Apartment</td>\n",
       "      <td>Entire home/apt</td>\n",
       "      <td>4</td>\n",
       "      <td>1.0</td>\n",
       "      <td>Real Bed</td>\n",
       "      <td>moderate</td>\n",
       "      <td>True</td>\n",
       "      <td>LA</td>\n",
       "      <td>t</td>\n",
       "      <td>t</td>\n",
       "      <td>2015-08-17</td>\n",
       "      <td>f</td>\n",
       "      <td>Hollywood Hills</td>\n",
       "      <td>24</td>\n",
       "      <td>1.0</td>\n",
       "      <td>1.0</td>\n",
       "    </tr>\n",
       "    <tr>\n",
       "      <td>2</td>\n",
       "      <td>8121643</td>\n",
       "      <td>Apartment</td>\n",
       "      <td>Private room</td>\n",
       "      <td>2</td>\n",
       "      <td>1.0</td>\n",
       "      <td>Real Bed</td>\n",
       "      <td>flexible</td>\n",
       "      <td>False</td>\n",
       "      <td>NYC</td>\n",
       "      <td>t</td>\n",
       "      <td>f</td>\n",
       "      <td>2012-06-18</td>\n",
       "      <td>f</td>\n",
       "      <td>Financial District</td>\n",
       "      <td>0</td>\n",
       "      <td>1.0</td>\n",
       "      <td>1.0</td>\n",
       "    </tr>\n",
       "    <tr>\n",
       "      <td>3</td>\n",
       "      <td>16490010</td>\n",
       "      <td>Apartment</td>\n",
       "      <td>Private room</td>\n",
       "      <td>2</td>\n",
       "      <td>1.0</td>\n",
       "      <td>Real Bed</td>\n",
       "      <td>flexible</td>\n",
       "      <td>True</td>\n",
       "      <td>NYC</td>\n",
       "      <td>t</td>\n",
       "      <td>t</td>\n",
       "      <td>2011-12-12</td>\n",
       "      <td>f</td>\n",
       "      <td>Greenpoint</td>\n",
       "      <td>12</td>\n",
       "      <td>1.0</td>\n",
       "      <td>1.0</td>\n",
       "    </tr>\n",
       "    <tr>\n",
       "      <td>4</td>\n",
       "      <td>16274069</td>\n",
       "      <td>Apartment</td>\n",
       "      <td>Entire home/apt</td>\n",
       "      <td>4</td>\n",
       "      <td>1.0</td>\n",
       "      <td>Real Bed</td>\n",
       "      <td>moderate</td>\n",
       "      <td>True</td>\n",
       "      <td>NYC</td>\n",
       "      <td>t</td>\n",
       "      <td>f</td>\n",
       "      <td>2014-11-02</td>\n",
       "      <td>f</td>\n",
       "      <td>Bedford-Stuyvesant</td>\n",
       "      <td>13</td>\n",
       "      <td>2.0</td>\n",
       "      <td>3.0</td>\n",
       "    </tr>\n",
       "  </tbody>\n",
       "</table>\n",
       "</div>"
      ],
      "text/plain": [
       "         id property_type        room_type  accommodates  bathrooms  bed_type  \\\n",
       "0   5979389     Apartment     Private room             2        1.0  Real Bed   \n",
       "1  13488121     Apartment  Entire home/apt             4        1.0  Real Bed   \n",
       "2   8121643     Apartment     Private room             2        1.0  Real Bed   \n",
       "3  16490010     Apartment     Private room             2        1.0  Real Bed   \n",
       "4  16274069     Apartment  Entire home/apt             4        1.0  Real Bed   \n",
       "\n",
       "  cancellation_policy  cleaning_fee city host_has_profile_pic  \\\n",
       "0              strict          True  NYC                    t   \n",
       "1            moderate          True   LA                    t   \n",
       "2            flexible         False  NYC                    t   \n",
       "3            flexible          True  NYC                    t   \n",
       "4            moderate          True  NYC                    t   \n",
       "\n",
       "  host_identity_verified host_since instant_bookable       neighbourhood  \\\n",
       "0                      t 2015-05-29                f           Ridgewood   \n",
       "1                      t 2015-08-17                f     Hollywood Hills   \n",
       "2                      f 2012-06-18                f  Financial District   \n",
       "3                      t 2011-12-12                f          Greenpoint   \n",
       "4                      f 2014-11-02                f  Bedford-Stuyvesant   \n",
       "\n",
       "   number_of_reviews  bedrooms  beds  \n",
       "0                  0       1.0   1.0  \n",
       "1                 24       1.0   1.0  \n",
       "2                  0       1.0   1.0  \n",
       "3                 12       1.0   1.0  \n",
       "4                 13       2.0   3.0  "
      ]
     },
     "execution_count": 25,
     "metadata": {},
     "output_type": "execute_result"
    }
   ],
   "source": [
    "data_test.head()"
   ]
  },
  {
   "cell_type": "code",
   "execution_count": 26,
   "metadata": {},
   "outputs": [
    {
     "data": {
      "text/html": [
       "<div>\n",
       "<style scoped>\n",
       "    .dataframe tbody tr th:only-of-type {\n",
       "        vertical-align: middle;\n",
       "    }\n",
       "\n",
       "    .dataframe tbody tr th {\n",
       "        vertical-align: top;\n",
       "    }\n",
       "\n",
       "    .dataframe thead th {\n",
       "        text-align: right;\n",
       "    }\n",
       "</style>\n",
       "<table border=\"1\" class=\"dataframe\">\n",
       "  <thead>\n",
       "    <tr style=\"text-align: right;\">\n",
       "      <th></th>\n",
       "      <th>id</th>\n",
       "      <th>accommodates</th>\n",
       "      <th>bathrooms</th>\n",
       "      <th>number_of_reviews</th>\n",
       "      <th>bedrooms</th>\n",
       "      <th>beds</th>\n",
       "      <th>log_price</th>\n",
       "    </tr>\n",
       "  </thead>\n",
       "  <tbody>\n",
       "    <tr>\n",
       "      <td>count</td>\n",
       "      <td>4.999900e+04</td>\n",
       "      <td>49999.000000</td>\n",
       "      <td>49853.000000</td>\n",
       "      <td>49999.000000</td>\n",
       "      <td>49937.000000</td>\n",
       "      <td>49908.000000</td>\n",
       "      <td>49999.000000</td>\n",
       "    </tr>\n",
       "    <tr>\n",
       "      <td>mean</td>\n",
       "      <td>1.125866e+07</td>\n",
       "      <td>3.157563</td>\n",
       "      <td>1.235151</td>\n",
       "      <td>21.000380</td>\n",
       "      <td>1.266776</td>\n",
       "      <td>1.712431</td>\n",
       "      <td>4.781831</td>\n",
       "    </tr>\n",
       "    <tr>\n",
       "      <td>std</td>\n",
       "      <td>6.086302e+06</td>\n",
       "      <td>2.165059</td>\n",
       "      <td>0.582082</td>\n",
       "      <td>38.131564</td>\n",
       "      <td>0.853917</td>\n",
       "      <td>1.259860</td>\n",
       "      <td>0.716910</td>\n",
       "    </tr>\n",
       "    <tr>\n",
       "      <td>min</td>\n",
       "      <td>3.440000e+02</td>\n",
       "      <td>1.000000</td>\n",
       "      <td>0.000000</td>\n",
       "      <td>0.000000</td>\n",
       "      <td>0.000000</td>\n",
       "      <td>0.000000</td>\n",
       "      <td>1.609438</td>\n",
       "    </tr>\n",
       "    <tr>\n",
       "      <td>25%</td>\n",
       "      <td>6.245858e+06</td>\n",
       "      <td>2.000000</td>\n",
       "      <td>1.000000</td>\n",
       "      <td>1.000000</td>\n",
       "      <td>1.000000</td>\n",
       "      <td>1.000000</td>\n",
       "      <td>4.317488</td>\n",
       "    </tr>\n",
       "    <tr>\n",
       "      <td>50%</td>\n",
       "      <td>1.225244e+07</td>\n",
       "      <td>2.000000</td>\n",
       "      <td>1.000000</td>\n",
       "      <td>6.000000</td>\n",
       "      <td>1.000000</td>\n",
       "      <td>1.000000</td>\n",
       "      <td>4.709530</td>\n",
       "    </tr>\n",
       "    <tr>\n",
       "      <td>75%</td>\n",
       "      <td>1.641108e+07</td>\n",
       "      <td>4.000000</td>\n",
       "      <td>1.000000</td>\n",
       "      <td>24.000000</td>\n",
       "      <td>1.000000</td>\n",
       "      <td>2.000000</td>\n",
       "      <td>5.220356</td>\n",
       "    </tr>\n",
       "    <tr>\n",
       "      <td>max</td>\n",
       "      <td>2.122836e+07</td>\n",
       "      <td>16.000000</td>\n",
       "      <td>8.000000</td>\n",
       "      <td>605.000000</td>\n",
       "      <td>10.000000</td>\n",
       "      <td>16.000000</td>\n",
       "      <td>7.600402</td>\n",
       "    </tr>\n",
       "  </tbody>\n",
       "</table>\n",
       "</div>"
      ],
      "text/plain": [
       "                 id  accommodates     bathrooms  number_of_reviews  \\\n",
       "count  4.999900e+04  49999.000000  49853.000000       49999.000000   \n",
       "mean   1.125866e+07      3.157563      1.235151          21.000380   \n",
       "std    6.086302e+06      2.165059      0.582082          38.131564   \n",
       "min    3.440000e+02      1.000000      0.000000           0.000000   \n",
       "25%    6.245858e+06      2.000000      1.000000           1.000000   \n",
       "50%    1.225244e+07      2.000000      1.000000           6.000000   \n",
       "75%    1.641108e+07      4.000000      1.000000          24.000000   \n",
       "max    2.122836e+07     16.000000      8.000000         605.000000   \n",
       "\n",
       "           bedrooms          beds     log_price  \n",
       "count  49937.000000  49908.000000  49999.000000  \n",
       "mean       1.266776      1.712431      4.781831  \n",
       "std        0.853917      1.259860      0.716910  \n",
       "min        0.000000      0.000000      1.609438  \n",
       "25%        1.000000      1.000000      4.317488  \n",
       "50%        1.000000      1.000000      4.709530  \n",
       "75%        1.000000      2.000000      5.220356  \n",
       "max       10.000000     16.000000      7.600402  "
      ]
     },
     "execution_count": 26,
     "metadata": {},
     "output_type": "execute_result"
    }
   ],
   "source": [
    "data_train.describe()"
   ]
  },
  {
   "cell_type": "markdown",
   "metadata": {},
   "source": [
    "## Lets DO SOME VISUALIZATION !!!!"
   ]
  },
  {
   "cell_type": "code",
   "execution_count": 27,
   "metadata": {},
   "outputs": [
    {
     "data": {
      "text/plain": [
       "<seaborn.axisgrid.JointGrid at 0x1b94c28ee48>"
      ]
     },
     "execution_count": 27,
     "metadata": {},
     "output_type": "execute_result"
    },
    {
     "data": {
      "image/png": "[encoded data removed]",
      "text/plain": [
       "<Figure size 432x432 with 3 Axes>"
      ]
     },
     "metadata": {
      "needs_background": "light"
     },
     "output_type": "display_data"
    }
   ],
   "source": [
    "sns.jointplot(x = \"bedrooms\", y = \"log_price\", data = data_train)"
   ]
  },
  {
   "cell_type": "code",
   "execution_count": 28,
   "metadata": {},
   "outputs": [
    {
     "data": {
      "text/plain": [
       "<seaborn.axisgrid.JointGrid at 0x1b94c61e048>"
      ]
     },
     "execution_count": 28,
     "metadata": {},
     "output_type": "execute_result"
    },
    {
     "data": {
      "image/png": "[encoded data removed]",
      "text/plain": [
       "<Figure size 432x432 with 3 Axes>"
      ]
     },
     "metadata": {
      "needs_background": "light"
     },
     "output_type": "display_data"
    }
   ],
   "source": [
    "sns.jointplot(x = \"beds\", y = \"log_price\", data = data_train)"
   ]
  },
  {
   "cell_type": "code",
   "execution_count": 29,
   "metadata": {},
   "outputs": [
    {
     "data": {
      "text/plain": [
       "<seaborn.axisgrid.JointGrid at 0x1b94c65e408>"
      ]
     },
     "execution_count": 29,
     "metadata": {},
     "output_type": "execute_result"
    },
    {
     "data": {
      "image/png": "[encoded data removed]",
      "text/plain": [
       "<Figure size 432x432 with 3 Axes>"
      ]
     },
     "metadata": {
      "needs_background": "light"
     },
     "output_type": "display_data"
    }
   ],
   "source": [
    "sns.jointplot(x = \"number_of_reviews\", y = \"log_price\", data = data_train)"
   ]
  },
  {
   "cell_type": "code",
   "execution_count": 30,
   "metadata": {},
   "outputs": [
    {
     "data": {
      "text/plain": [
       "<seaborn.axisgrid.JointGrid at 0x1b94c6d0ac8>"
      ]
     },
     "execution_count": 30,
     "metadata": {},
     "output_type": "execute_result"
    },
    {
     "data": {
      "image/png": "[encoded data removed]",
      "text/plain": [
       "<Figure size 432x432 with 3 Axes>"
      ]
     },
     "metadata": {
      "needs_background": "light"
     },
     "output_type": "display_data"
    }
   ],
   "source": [
    "sns.jointplot(x = \"accommodates\", y = \"log_price\", data = data_train)"
   ]
  },
  {
   "cell_type": "code",
   "execution_count": 31,
   "metadata": {},
   "outputs": [
    {
     "data": {
      "text/plain": [
       "id                          int64\n",
       "property_type              object\n",
       "room_type                  object\n",
       "accommodates                int64\n",
       "bathrooms                 float64\n",
       "bed_type                   object\n",
       "cancellation_policy        object\n",
       "cleaning_fee                 bool\n",
       "city                       object\n",
       "host_has_profile_pic       object\n",
       "host_identity_verified     object\n",
       "host_since                 object\n",
       "instant_bookable           object\n",
       "neighbourhood              object\n",
       "number_of_reviews           int64\n",
       "bedrooms                  float64\n",
       "beds                      float64\n",
       "log_price                 float64\n",
       "dtype: object"
      ]
     },
     "execution_count": 31,
     "metadata": {},
     "output_type": "execute_result"
    }
   ],
   "source": [
    "data_train.dtypes"
   ]
  },
  {
   "cell_type": "code",
   "execution_count": 32,
   "metadata": {},
   "outputs": [
    {
     "data": {
      "text/plain": [
       "id                                 int64\n",
       "property_type                     object\n",
       "room_type                         object\n",
       "accommodates                       int64\n",
       "bathrooms                        float64\n",
       "bed_type                          object\n",
       "cancellation_policy               object\n",
       "cleaning_fee                        bool\n",
       "city                              object\n",
       "host_has_profile_pic              object\n",
       "host_identity_verified            object\n",
       "host_since                datetime64[ns]\n",
       "instant_bookable                  object\n",
       "neighbourhood                     object\n",
       "number_of_reviews                  int64\n",
       "bedrooms                         float64\n",
       "beds                             float64\n",
       "dtype: object"
      ]
     },
     "execution_count": 32,
     "metadata": {},
     "output_type": "execute_result"
    }
   ],
   "source": [
    "data_test.dtypes"
   ]
  },
  {
   "cell_type": "code",
   "execution_count": 33,
   "metadata": {},
   "outputs": [
    {
     "data": {
      "text/plain": [
       "Apartment             33113\n",
       "House                 11138\n",
       "Condominium            1759\n",
       "Townhouse              1146\n",
       "Loft                    834\n",
       "Other                   392\n",
       "Guesthouse              324\n",
       "Bed & Breakfast         320\n",
       "Bungalow                264\n",
       "Villa                   120\n",
       "Dorm                     99\n",
       "Guest suite              83\n",
       "Camper/RV                63\n",
       "In-law                   49\n",
       "Cabin                    49\n",
       "Hostel                   48\n",
       "Timeshare                46\n",
       "Boutique hotel           44\n",
       "Boat                     36\n",
       "Serviced apartment       16\n",
       "Tent                     12\n",
       "Castle                    8\n",
       "Vacation home             7\n",
       "Yurt                      7\n",
       "Treehouse                 6\n",
       "Hut                       5\n",
       "Chalet                    3\n",
       "Earth House               2\n",
       "Train                     1\n",
       "Casa particular           1\n",
       "Lighthouse                1\n",
       "Parking Space             1\n",
       "Cave                      1\n",
       "Tipi                      1\n",
       "Name: property_type, dtype: int64"
      ]
     },
     "execution_count": 33,
     "metadata": {},
     "output_type": "execute_result"
    }
   ],
   "source": [
    "## Visualizing the property type\n",
    "data_train[\"property_type\"].value_counts()"
   ]
  },
  {
   "cell_type": "code",
   "execution_count": 34,
   "metadata": {},
   "outputs": [
    {
     "data": {
      "image/png": "[encoded data removed]",
      "text/plain": [
       "<Figure size 1080x864 with 1 Axes>"
      ]
     },
     "metadata": {
      "needs_background": "light"
     },
     "output_type": "display_data"
    }
   ],
   "source": [
    "plt.figure(figsize=(15,12))\n",
    "sns.set_style('whitegrid')\n",
    "sns.countplot(x=\"property_type\", data=data_train, palette='rainbow', order = data_train[\"property_type\"].value_counts().index)\n",
    "plt.xticks(rotation = 90)\n",
    "plt.show()"
   ]
  },
  {
   "cell_type": "code",
   "execution_count": 35,
   "metadata": {},
   "outputs": [
    {
     "data": {
      "text/plain": [
       "3/30/2015     173\n",
       "2/14/2014     114\n",
       "5/18/2015      60\n",
       "9/16/2016      58\n",
       "11/11/2015     55\n",
       "             ... \n",
       "10/7/2009       1\n",
       "4/21/2008       1\n",
       "9/6/2008        1\n",
       "8/11/2010       1\n",
       "7/23/2009       1\n",
       "Name: host_since, Length: 3009, dtype: int64"
      ]
     },
     "execution_count": 35,
     "metadata": {},
     "output_type": "execute_result"
    }
   ],
   "source": [
    "data_train['host_since'].value_counts()"
   ]
  },
  {
   "cell_type": "code",
   "execution_count": 36,
   "metadata": {},
   "outputs": [],
   "source": [
    "data_train[\"host_since\"]=pd.to_datetime(data_train[\"host_since\"],infer_datetime_format=True)"
   ]
  },
  {
   "cell_type": "code",
   "execution_count": 37,
   "metadata": {
    "scrolled": true
   },
   "outputs": [
    {
     "data": {
      "text/plain": [
       "2015-03-30    173\n",
       "2014-02-14    114\n",
       "2015-05-18     60\n",
       "2016-09-16     58\n",
       "2015-11-11     55\n",
       "             ... \n",
       "2017-10-03      1\n",
       "2010-01-05      1\n",
       "2009-11-12      1\n",
       "2010-02-28      1\n",
       "2010-03-02      1\n",
       "Name: host_since, Length: 3009, dtype: int64"
      ]
     },
     "execution_count": 37,
     "metadata": {},
     "output_type": "execute_result"
    }
   ],
   "source": [
    "data_train['host_since'].value_counts()"
   ]
  },
  {
   "cell_type": "code",
   "execution_count": 38,
   "metadata": {},
   "outputs": [
    {
     "data": {
      "text/plain": [
       "2015-03-30    73\n",
       "2014-02-14    59\n",
       "2015-05-11    34\n",
       "2014-09-02    34\n",
       "2014-08-05    33\n",
       "              ..\n",
       "2011-03-24     1\n",
       "2009-11-08     1\n",
       "2009-08-03     1\n",
       "2011-01-30     1\n",
       "2010-01-28     1\n",
       "Name: host_since, Length: 2866, dtype: int64"
      ]
     },
     "execution_count": 38,
     "metadata": {},
     "output_type": "execute_result"
    }
   ],
   "source": [
    "data_test[\"host_since\"].value_counts()"
   ]
  },
  {
   "cell_type": "code",
   "execution_count": 39,
   "metadata": {},
   "outputs": [],
   "source": [
    "data_test[\"host_since\"]=pd.to_datetime(data_test[\"host_since\"],infer_datetime_format=True)"
   ]
  },
  {
   "cell_type": "code",
   "execution_count": 40,
   "metadata": {},
   "outputs": [
    {
     "data": {
      "text/plain": [
       "2015-03-30    73\n",
       "2014-02-14    59\n",
       "2015-05-11    34\n",
       "2014-09-02    34\n",
       "2014-08-05    33\n",
       "              ..\n",
       "2011-03-24     1\n",
       "2009-11-08     1\n",
       "2009-08-03     1\n",
       "2011-01-30     1\n",
       "2010-01-28     1\n",
       "Name: host_since, Length: 2866, dtype: int64"
      ]
     },
     "execution_count": 40,
     "metadata": {},
     "output_type": "execute_result"
    }
   ],
   "source": [
    "data_test[\"host_since\"].value_counts()"
   ]
  },
  {
   "cell_type": "code",
   "execution_count": 41,
   "metadata": {},
   "outputs": [],
   "source": [
    "from datetime import date\n",
    "data_train['Date'] = date.today().strftime('%Y-%m-%d')\n",
    "data_test[\"Date\"] = date.today().strftime('%Y-%m-%d')"
   ]
  },
  {
   "cell_type": "code",
   "execution_count": 42,
   "metadata": {},
   "outputs": [],
   "source": [
    "data_train[\"Date\"]=pd.to_datetime(data_train[\"Date\"],infer_datetime_format=True)\n",
    "data_test[\"Date\"]=pd.to_datetime(data_test[\"Date\"],infer_datetime_format=True)"
   ]
  },
  {
   "cell_type": "code",
   "execution_count": 43,
   "metadata": {},
   "outputs": [],
   "source": [
    "data_train['day_diff']=(data_train['Date']-data_train['host_since']).dt.days\n",
    "data_test['day_diff']=(data_test['Date']-data_test['host_since']).dt.days"
   ]
  },
  {
   "cell_type": "code",
   "execution_count": 44,
   "metadata": {},
   "outputs": [],
   "source": [
    "for col in ['host_since','Date']:\n",
    "    data_train.drop([col],1,inplace=True)\n",
    "    data_test.drop([col],1,inplace=True)"
   ]
  },
  {
   "cell_type": "code",
   "execution_count": 45,
   "metadata": {},
   "outputs": [
    {
     "data": {
      "text/plain": [
       "id                          int64\n",
       "property_type              object\n",
       "room_type                  object\n",
       "accommodates                int64\n",
       "bathrooms                 float64\n",
       "bed_type                   object\n",
       "cancellation_policy        object\n",
       "cleaning_fee                 bool\n",
       "city                       object\n",
       "host_has_profile_pic       object\n",
       "host_identity_verified     object\n",
       "instant_bookable           object\n",
       "neighbourhood              object\n",
       "number_of_reviews           int64\n",
       "bedrooms                  float64\n",
       "beds                      float64\n",
       "log_price                 float64\n",
       "day_diff                  float64\n",
       "dtype: object"
      ]
     },
     "execution_count": 45,
     "metadata": {},
     "output_type": "execute_result"
    }
   ],
   "source": [
    "data_train.dtypes"
   ]
  },
  {
   "cell_type": "code",
   "execution_count": 46,
   "metadata": {
    "scrolled": true
   },
   "outputs": [
    {
     "data": {
      "text/plain": [
       "Entire home/apt    27905\n",
       "Private room       20658\n",
       "Shared room         1436\n",
       "Name: room_type, dtype: int64"
      ]
     },
     "execution_count": 46,
     "metadata": {},
     "output_type": "execute_result"
    }
   ],
   "source": [
    "data_train[\"room_type\"].value_counts()"
   ]
  },
  {
   "cell_type": "code",
   "execution_count": 47,
   "metadata": {},
   "outputs": [
    {
     "data": {
      "image/png": "[encoded data removed]",
      "text/plain": [
       "<Figure size 360x360 with 1 Axes>"
      ]
     },
     "metadata": {},
     "output_type": "display_data"
    }
   ],
   "source": [
    "## Let's visualise the room type\n",
    "sns.catplot(y=\"room_type\", kind=\"count\", data=data_train);"
   ]
  },
  {
   "cell_type": "code",
   "execution_count": 48,
   "metadata": {},
   "outputs": [
    {
     "data": {
      "text/plain": [
       "Real Bed         48575\n",
       "Futon              518\n",
       "Pull-out Sofa      403\n",
       "Airbed             323\n",
       "Couch              180\n",
       "Name: bed_type, dtype: int64"
      ]
     },
     "execution_count": 48,
     "metadata": {},
     "output_type": "execute_result"
    }
   ],
   "source": [
    "data_train[\"bed_type\"].value_counts()"
   ]
  },
  {
   "cell_type": "code",
   "execution_count": 49,
   "metadata": {},
   "outputs": [
    {
     "data": {
      "image/png": "[encoded data removed]",
      "text/plain": [
       "<Figure size 360x360 with 1 Axes>"
      ]
     },
     "metadata": {},
     "output_type": "display_data"
    }
   ],
   "source": [
    "sns.catplot(y=\"bed_type\", kind=\"count\", data=data_train);"
   ]
  },
  {
   "cell_type": "code",
   "execution_count": 50,
   "metadata": {},
   "outputs": [
    {
     "data": {
      "text/plain": [
       "2     21529\n",
       "4      8178\n",
       "1      6360\n",
       "3      5213\n",
       "6      3331\n",
       "5      2304\n",
       "8      1199\n",
       "7       640\n",
       "10      472\n",
       "16      210\n",
       "12      190\n",
       "9       183\n",
       "14       77\n",
       "11       51\n",
       "15       38\n",
       "13       24\n",
       "Name: accommodates, dtype: int64"
      ]
     },
     "execution_count": 50,
     "metadata": {},
     "output_type": "execute_result"
    }
   ],
   "source": [
    "data_train['accommodates'].value_counts()"
   ]
  },
  {
   "cell_type": "code",
   "execution_count": 51,
   "metadata": {},
   "outputs": [
    {
     "data": {
      "text/plain": [
       "<matplotlib.axes._subplots.AxesSubplot at 0x1b94c73a9c8>"
      ]
     },
     "execution_count": 51,
     "metadata": {},
     "output_type": "execute_result"
    },
    {
     "data": {
      "image/png": "[encoded data removed]",
      "text/plain": [
       "<Figure size 432x288 with 1 Axes>"
      ]
     },
     "metadata": {},
     "output_type": "display_data"
    }
   ],
   "source": [
    "sns.distplot(data_train[\"accommodates\"], bins=50, kde=False)"
   ]
  },
  {
   "cell_type": "code",
   "execution_count": 52,
   "metadata": {},
   "outputs": [
    {
     "data": {
      "text/plain": [
       "<matplotlib.axes._subplots.AxesSubplot at 0x1b94cd48788>"
      ]
     },
     "execution_count": 52,
     "metadata": {},
     "output_type": "execute_result"
    },
    {
     "data": {
      "image/png": "[encoded data removed]",
      "text/plain": [
       "<Figure size 432x288 with 1 Axes>"
      ]
     },
     "metadata": {},
     "output_type": "display_data"
    }
   ],
   "source": [
    "## Relationship between Bedroom and Beds\n",
    "sns.scatterplot(data_train[\"bedrooms\"], data_train[\"beds\"])"
   ]
  },
  {
   "cell_type": "code",
   "execution_count": 53,
   "metadata": {},
   "outputs": [
    {
     "data": {
      "text/plain": [
       "<matplotlib.axes._subplots.AxesSubplot at 0x1b94cb3cfc8>"
      ]
     },
     "execution_count": 53,
     "metadata": {},
     "output_type": "execute_result"
    },
    {
     "data": {
      "image/png": "[encoded data removed]",
      "text/plain": [
       "<Figure size 432x288 with 1 Axes>"
      ]
     },
     "metadata": {},
     "output_type": "display_data"
    }
   ],
   "source": [
    "sns.distplot(data_train[\"number_of_reviews\"], bins=50, kde=False)"
   ]
  },
  {
   "cell_type": "markdown",
   "metadata": {},
   "source": [
    "# Plotting the Correlation Matrix"
   ]
  },
  {
   "cell_type": "code",
   "execution_count": 54,
   "metadata": {},
   "outputs": [
    {
     "data": {
      "text/plain": [
       "<matplotlib.axes._subplots.AxesSubplot at 0x1b94c8b8d08>"
      ]
     },
     "execution_count": 54,
     "metadata": {},
     "output_type": "execute_result"
    },
    {
     "data": {
      "image/png": "[encoded data removed]",
      "text/plain": [
       "<Figure size 432x288 with 1 Axes>"
      ]
     },
     "metadata": {},
     "output_type": "display_data"
    }
   ],
   "source": [
    "corr = data_train.corr()\n",
    "sns.heatmap(corr, annot = True, cmap = \"Spectral\", cbar = False)"
   ]
  },
  {
   "cell_type": "code",
   "execution_count": 55,
   "metadata": {},
   "outputs": [
    {
     "data": {
      "text/plain": [
       "NYC        21803\n",
       "LA         15191\n",
       "SF          4357\n",
       "DC          3804\n",
       "Chicago     2498\n",
       "Boston      2346\n",
       "Name: city, dtype: int64"
      ]
     },
     "execution_count": 55,
     "metadata": {},
     "output_type": "execute_result"
    }
   ],
   "source": [
    "data_train[\"city\"].value_counts()"
   ]
  },
  {
   "cell_type": "code",
   "execution_count": 56,
   "metadata": {},
   "outputs": [
    {
     "data": {
      "text/plain": [
       "True     36627\n",
       "False    13372\n",
       "Name: cleaning_fee, dtype: int64"
      ]
     },
     "execution_count": 56,
     "metadata": {},
     "output_type": "execute_result"
    }
   ],
   "source": [
    "data_train[\"cleaning_fee\"].value_counts()"
   ]
  },
  {
   "cell_type": "code",
   "execution_count": 57,
   "metadata": {},
   "outputs": [],
   "source": [
    "data_train[\"cleaning_fee\"]=np.where(data_train[\"cleaning_fee\"]==True,1,0)"
   ]
  },
  {
   "cell_type": "code",
   "execution_count": 58,
   "metadata": {
    "scrolled": true
   },
   "outputs": [
    {
     "data": {
      "text/plain": [
       "1    36627\n",
       "0    13372\n",
       "Name: cleaning_fee, dtype: int64"
      ]
     },
     "execution_count": 58,
     "metadata": {},
     "output_type": "execute_result"
    }
   ],
   "source": [
    "data_train[\"cleaning_fee\"].value_counts()"
   ]
  },
  {
   "cell_type": "code",
   "execution_count": 59,
   "metadata": {},
   "outputs": [
    {
     "data": {
      "text/plain": [
       "True     17775\n",
       "False     6336\n",
       "Name: cleaning_fee, dtype: int64"
      ]
     },
     "execution_count": 59,
     "metadata": {},
     "output_type": "execute_result"
    }
   ],
   "source": [
    "data_test[\"cleaning_fee\"].value_counts()"
   ]
  },
  {
   "cell_type": "code",
   "execution_count": 60,
   "metadata": {},
   "outputs": [],
   "source": [
    "data_test[\"cleaning_fee\"]=np.where(data_test[\"cleaning_fee\"]==True,1,0)"
   ]
  },
  {
   "cell_type": "code",
   "execution_count": 61,
   "metadata": {},
   "outputs": [
    {
     "data": {
      "text/plain": [
       "1    17775\n",
       "0     6336\n",
       "Name: cleaning_fee, dtype: int64"
      ]
     },
     "execution_count": 61,
     "metadata": {},
     "output_type": "execute_result"
    }
   ],
   "source": [
    "data_test[\"cleaning_fee\"].value_counts()"
   ]
  },
  {
   "cell_type": "code",
   "execution_count": 62,
   "metadata": {},
   "outputs": [
    {
     "data": {
      "text/plain": [
       "id                          int64\n",
       "property_type              object\n",
       "room_type                  object\n",
       "accommodates                int64\n",
       "bathrooms                 float64\n",
       "bed_type                   object\n",
       "cancellation_policy        object\n",
       "cleaning_fee                int32\n",
       "city                       object\n",
       "host_has_profile_pic       object\n",
       "host_identity_verified     object\n",
       "instant_bookable           object\n",
       "neighbourhood              object\n",
       "number_of_reviews           int64\n",
       "bedrooms                  float64\n",
       "beds                      float64\n",
       "log_price                 float64\n",
       "day_diff                  float64\n",
       "dtype: object"
      ]
     },
     "execution_count": 62,
     "metadata": {},
     "output_type": "execute_result"
    }
   ],
   "source": [
    "data_train.dtypes"
   ]
  },
  {
   "cell_type": "code",
   "execution_count": 63,
   "metadata": {},
   "outputs": [
    {
     "data": {
      "text/plain": [
       "id                          int64\n",
       "property_type              object\n",
       "room_type                  object\n",
       "accommodates                int64\n",
       "bathrooms                 float64\n",
       "bed_type                   object\n",
       "cancellation_policy        object\n",
       "cleaning_fee                int32\n",
       "city                       object\n",
       "host_has_profile_pic       object\n",
       "host_identity_verified     object\n",
       "instant_bookable           object\n",
       "neighbourhood              object\n",
       "number_of_reviews           int64\n",
       "bedrooms                  float64\n",
       "beds                      float64\n",
       "day_diff                  float64\n",
       "dtype: object"
      ]
     },
     "execution_count": 63,
     "metadata": {},
     "output_type": "execute_result"
    }
   ],
   "source": [
    "data_test.dtypes"
   ]
  },
  {
   "cell_type": "code",
   "execution_count": 64,
   "metadata": {},
   "outputs": [
    {
     "data": {
      "text/plain": [
       "t    49722\n",
       "f      150\n",
       "Name: host_has_profile_pic, dtype: int64"
      ]
     },
     "execution_count": 64,
     "metadata": {},
     "output_type": "execute_result"
    }
   ],
   "source": [
    "data_train[\"host_has_profile_pic\"].value_counts()"
   ]
  },
  {
   "cell_type": "code",
   "execution_count": 65,
   "metadata": {},
   "outputs": [
    {
     "data": {
      "text/plain": [
       "strict             21811\n",
       "flexible           15237\n",
       "moderate           12865\n",
       "super_strict_30       75\n",
       "super_strict_60       11\n",
       "Name: cancellation_policy, dtype: int64"
      ]
     },
     "execution_count": 65,
     "metadata": {},
     "output_type": "execute_result"
    }
   ],
   "source": [
    "data_train[\"cancellation_policy\"].value_counts()"
   ]
  },
  {
   "cell_type": "code",
   "execution_count": 66,
   "metadata": {},
   "outputs": [
    {
     "data": {
      "text/plain": [
       "t    33545\n",
       "f    16327\n",
       "Name: host_identity_verified, dtype: int64"
      ]
     },
     "execution_count": 66,
     "metadata": {},
     "output_type": "execute_result"
    }
   ],
   "source": [
    "data_train[\"host_identity_verified\"].value_counts()"
   ]
  },
  {
   "cell_type": "code",
   "execution_count": 67,
   "metadata": {},
   "outputs": [
    {
     "data": {
      "text/plain": [
       "f    36873\n",
       "t    13126\n",
       "Name: instant_bookable, dtype: int64"
      ]
     },
     "execution_count": 67,
     "metadata": {},
     "output_type": "execute_result"
    }
   ],
   "source": [
    "data_train[\"instant_bookable\"].value_counts()"
   ]
  },
  {
   "cell_type": "code",
   "execution_count": 68,
   "metadata": {},
   "outputs": [
    {
     "data": {
      "text/plain": [
       "Williamsburg          1909\n",
       "Bedford-Stuyvesant    1462\n",
       "Bushwick              1081\n",
       "Upper West Side        966\n",
       "Mid-Wilshire           961\n",
       "                      ... \n",
       "Clearing                 1\n",
       "Observatory Circle       1\n",
       "Oakwood                  1\n",
       "Presidio                 1\n",
       "O'Hare                   1\n",
       "Name: neighbourhood, Length: 598, dtype: int64"
      ]
     },
     "execution_count": 68,
     "metadata": {},
     "output_type": "execute_result"
    }
   ],
   "source": [
    "data_train[\"neighbourhood\"].value_counts()"
   ]
  },
  {
   "cell_type": "markdown",
   "metadata": {},
   "source": [
    "# 3) TRAIN TEST SPLIT"
   ]
  },
  {
   "cell_type": "code",
   "execution_count": 69,
   "metadata": {},
   "outputs": [],
   "source": [
    "x_train,x_test = train_test_split(data_train, test_size = 0.2, random_state = 1) ##Splitting Train Datasets"
   ]
  },
  {
   "cell_type": "code",
   "execution_count": 70,
   "metadata": {},
   "outputs": [],
   "source": [
    "x_train1 = x_train.drop([\"log_price\",\"id\"],1)\n",
    "y_train1 = x_train[\"log_price\"]"
   ]
  },
  {
   "cell_type": "code",
   "execution_count": 71,
   "metadata": {},
   "outputs": [],
   "source": [
    "x_test1 = x_test.drop([\"log_price\",'id'],1)\n",
    "y_test1 = x_test[\"log_price\"]"
   ]
  },
  {
   "cell_type": "code",
   "execution_count": 72,
   "metadata": {},
   "outputs": [
    {
     "data": {
      "text/plain": [
       "((39999, 16), (39999,))"
      ]
     },
     "execution_count": 72,
     "metadata": {},
     "output_type": "execute_result"
    }
   ],
   "source": [
    "x_train1.shape, y_train1.shape"
   ]
  },
  {
   "cell_type": "code",
   "execution_count": 73,
   "metadata": {},
   "outputs": [
    {
     "data": {
      "text/plain": [
       "((10000, 16), (10000,))"
      ]
     },
     "execution_count": 73,
     "metadata": {},
     "output_type": "execute_result"
    }
   ],
   "source": [
    "x_test1.shape, y_test1.shape"
   ]
  },
  {
   "cell_type": "markdown",
   "metadata": {},
   "source": [
    "# 4) CREATING MODEL TRANSFORMER AND PIPELINE"
   ]
  },
  {
   "cell_type": "code",
   "execution_count": 74,
   "metadata": {},
   "outputs": [],
   "source": [
    "num_col = x_train1.select_dtypes(np.number).columns ##Generating Numeric col separately"
   ]
  },
  {
   "cell_type": "code",
   "execution_count": 75,
   "metadata": {},
   "outputs": [],
   "source": [
    "char_col = x_train1.select_dtypes(object).columns ##Generating Character col separately"
   ]
  },
  {
   "cell_type": "code",
   "execution_count": 76,
   "metadata": {},
   "outputs": [
    {
     "data": {
      "text/plain": [
       "(Index(['accommodates', 'bathrooms', 'cleaning_fee', 'number_of_reviews',\n",
       "        'bedrooms', 'beds', 'day_diff'],\n",
       "       dtype='object'),\n",
       " Index(['property_type', 'room_type', 'bed_type', 'cancellation_policy', 'city',\n",
       "        'host_has_profile_pic', 'host_identity_verified', 'instant_bookable',\n",
       "        'neighbourhood'],\n",
       "       dtype='object'))"
      ]
     },
     "execution_count": 76,
     "metadata": {},
     "output_type": "execute_result"
    }
   ],
   "source": [
    "num_col, char_col"
   ]
  },
  {
   "cell_type": "code",
   "execution_count": 77,
   "metadata": {},
   "outputs": [],
   "source": [
    "pipe_num = make_pipeline(SimpleImputer(strategy = 'median'), StandardScaler()) ## Creating Pipeline\n",
    "pipe_char = make_pipeline(SimpleImputer(strategy = \"constant\", fill_value= \"Missing\"),OneHotEncoder(handle_unknown = 'ignore'))"
   ]
  },
  {
   "cell_type": "code",
   "execution_count": 78,
   "metadata": {},
   "outputs": [],
   "source": [
    "ctrans = make_column_transformer((pipe_num,num_col),(pipe_char,char_col)) ## ColumnTransformer"
   ]
  },
  {
   "cell_type": "code",
   "execution_count": 79,
   "metadata": {},
   "outputs": [
    {
     "data": {
      "text/plain": [
       "<39999x652 sparse matrix of type '<class 'numpy.float64'>'\n",
       "\twith 639984 stored elements in Compressed Sparse Row format>"
      ]
     },
     "execution_count": 79,
     "metadata": {},
     "output_type": "execute_result"
    }
   ],
   "source": [
    "ctrans.fit_transform(x_train1)"
   ]
  },
  {
   "cell_type": "markdown",
   "metadata": {},
   "source": [
    "# 5) MACHINE LEARNING ALGORITHM - XGBOOST"
   ]
  },
  {
   "cell_type": "code",
   "execution_count": 80,
   "metadata": {},
   "outputs": [],
   "source": [
    "strings=\"xgb__\"\n",
    "parameters={'n_estimators':[40,60,80,100],\n",
    "            'max_depth':range(2,10,1),\n",
    "            'learning_rate':[.1,.01,.05],\n",
    "            'reg_lambda':[.1,.01,1,10],\n",
    "            'reg_alpha':[.1,.01,1,10]}"
   ]
  },
  {
   "cell_type": "code",
   "execution_count": 81,
   "metadata": {},
   "outputs": [
    {
     "data": {
      "text/plain": [
       "dict_items([('n_estimators', [40, 60, 80, 100]), ('max_depth', range(2, 10)), ('learning_rate', [0.1, 0.01, 0.05]), ('reg_lambda', [0.1, 0.01, 1, 10]), ('reg_alpha', [0.1, 0.01, 1, 10])])"
      ]
     },
     "execution_count": 81,
     "metadata": {},
     "output_type": "execute_result"
    }
   ],
   "source": [
    "parameters.items()"
   ]
  },
  {
   "cell_type": "code",
   "execution_count": 82,
   "metadata": {},
   "outputs": [],
   "source": [
    "strings = 'xgb__'\n",
    "\n",
    "xgb_params = {}\n",
    "for k, v in parameters.items():\n",
    "    xgb_params[strings + k] = v"
   ]
  },
  {
   "cell_type": "code",
   "execution_count": 83,
   "metadata": {},
   "outputs": [
    {
     "data": {
      "text/plain": [
       "{'xgb__n_estimators': [40, 60, 80, 100],\n",
       " 'xgb__max_depth': range(2, 10),\n",
       " 'xgb__learning_rate': [0.1, 0.01, 0.05],\n",
       " 'xgb__reg_lambda': [0.1, 0.01, 1, 10],\n",
       " 'xgb__reg_alpha': [0.1, 0.01, 1, 10]}"
      ]
     },
     "execution_count": 83,
     "metadata": {},
     "output_type": "execute_result"
    }
   ],
   "source": [
    "xgb_params"
   ]
  },
  {
   "cell_type": "code",
   "execution_count": 84,
   "metadata": {},
   "outputs": [],
   "source": [
    "xgb = xgbs.XGBRegressor()\n",
    "pipe=Pipeline([('columntransfer',ctrans),('xgb',xgb)])"
   ]
  },
  {
   "cell_type": "code",
   "execution_count": 85,
   "metadata": {},
   "outputs": [],
   "source": [
    "grid = RandomizedSearchCV(pipe,xgb_params,cv=5,scoring=\"neg_mean_absolute_error\")"
   ]
  },
  {
   "cell_type": "code",
   "execution_count": 86,
   "metadata": {},
   "outputs": [
    {
     "data": {
      "text/plain": [
       "RandomizedSearchCV(cv=5, error_score='raise-deprecating',\n",
       "                   estimator=Pipeline(memory=None,\n",
       "                                      steps=[('columntransfer',\n",
       "                                              ColumnTransformer(n_jobs=None,\n",
       "                                                                remainder='drop',\n",
       "                                                                sparse_threshold=0.3,\n",
       "                                                                transformer_weights=None,\n",
       "                                                                transformers=[('pipeline-1',\n",
       "                                                                               Pipeline(memory=None,\n",
       "                                                                                        steps=[('simpleimputer',\n",
       "                                                                                                SimpleImputer(add_indicator=False,\n",
       "                                                                                                              copy=True,\n",
       "                                                                                                              fill_value=None,\n",
       "                                                                                                              missing_valu...\n",
       "                                      verbose=False),\n",
       "                   iid='warn', n_iter=10, n_jobs=None,\n",
       "                   param_distributions={'xgb__learning_rate': [0.1, 0.01, 0.05],\n",
       "                                        'xgb__max_depth': range(2, 10),\n",
       "                                        'xgb__n_estimators': [40, 60, 80, 100],\n",
       "                                        'xgb__reg_alpha': [0.1, 0.01, 1, 10],\n",
       "                                        'xgb__reg_lambda': [0.1, 0.01, 1, 10]},\n",
       "                   pre_dispatch='2*n_jobs', random_state=None, refit=True,\n",
       "                   return_train_score=False, scoring='neg_mean_absolute_error',\n",
       "                   verbose=0)"
      ]
     },
     "execution_count": 86,
     "metadata": {},
     "output_type": "execute_result"
    }
   ],
   "source": [
    "grid"
   ]
  },
  {
   "cell_type": "code",
   "execution_count": 87,
   "metadata": {},
   "outputs": [
    {
     "name": "stdout",
     "output_type": "stream",
     "text": [
      "[11:01:36] WARNING: src/objective/regression_obj.cu:152: reg:linear is now deprecated in favor of reg:squarederror.\n",
      "[11:01:40] WARNING: src/objective/regression_obj.cu:152: reg:linear is now deprecated in favor of reg:squarederror.\n",
      "[11:01:44] WARNING: src/objective/regression_obj.cu:152: reg:linear is now deprecated in favor of reg:squarederror.\n",
      "[11:01:49] WARNING: src/objective/regression_obj.cu:152: reg:linear is now deprecated in favor of reg:squarederror.\n",
      "[11:01:53] WARNING: src/objective/regression_obj.cu:152: reg:linear is now deprecated in favor of reg:squarederror.\n",
      "[11:01:57] WARNING: src/objective/regression_obj.cu:152: reg:linear is now deprecated in favor of reg:squarederror.\n",
      "[11:02:05] WARNING: src/objective/regression_obj.cu:152: reg:linear is now deprecated in favor of reg:squarederror.\n",
      "[11:02:14] WARNING: src/objective/regression_obj.cu:152: reg:linear is now deprecated in favor of reg:squarederror.\n",
      "[11:02:22] WARNING: src/objective/regression_obj.cu:152: reg:linear is now deprecated in favor of reg:squarederror.\n",
      "[11:02:31] WARNING: src/objective/regression_obj.cu:152: reg:linear is now deprecated in favor of reg:squarederror.\n",
      "[11:02:37] WARNING: src/objective/regression_obj.cu:152: reg:linear is now deprecated in favor of reg:squarederror.\n",
      "[11:02:42] WARNING: src/objective/regression_obj.cu:152: reg:linear is now deprecated in favor of reg:squarederror.\n",
      "[11:02:49] WARNING: src/objective/regression_obj.cu:152: reg:linear is now deprecated in favor of reg:squarederror.\n",
      "[11:02:55] WARNING: src/objective/regression_obj.cu:152: reg:linear is now deprecated in favor of reg:squarederror.\n",
      "[11:03:01] WARNING: src/objective/regression_obj.cu:152: reg:linear is now deprecated in favor of reg:squarederror.\n",
      "[11:03:07] WARNING: src/objective/regression_obj.cu:152: reg:linear is now deprecated in favor of reg:squarederror.\n",
      "[11:03:18] WARNING: src/objective/regression_obj.cu:152: reg:linear is now deprecated in favor of reg:squarederror.\n",
      "[11:03:27] WARNING: src/objective/regression_obj.cu:152: reg:linear is now deprecated in favor of reg:squarederror.\n",
      "[11:03:34] WARNING: src/objective/regression_obj.cu:152: reg:linear is now deprecated in favor of reg:squarederror.\n",
      "[11:03:43] WARNING: src/objective/regression_obj.cu:152: reg:linear is now deprecated in favor of reg:squarederror.\n",
      "[11:03:54] WARNING: src/objective/regression_obj.cu:152: reg:linear is now deprecated in favor of reg:squarederror.\n",
      "[11:03:59] WARNING: src/objective/regression_obj.cu:152: reg:linear is now deprecated in favor of reg:squarederror.\n",
      "[11:04:04] WARNING: src/objective/regression_obj.cu:152: reg:linear is now deprecated in favor of reg:squarederror.\n",
      "[11:04:09] WARNING: src/objective/regression_obj.cu:152: reg:linear is now deprecated in favor of reg:squarederror.\n",
      "[11:04:15] WARNING: src/objective/regression_obj.cu:152: reg:linear is now deprecated in favor of reg:squarederror.\n",
      "[11:04:20] WARNING: src/objective/regression_obj.cu:152: reg:linear is now deprecated in favor of reg:squarederror.\n",
      "[11:04:26] WARNING: src/objective/regression_obj.cu:152: reg:linear is now deprecated in favor of reg:squarederror.\n",
      "[11:04:32] WARNING: src/objective/regression_obj.cu:152: reg:linear is now deprecated in favor of reg:squarederror.\n",
      "[11:04:38] WARNING: src/objective/regression_obj.cu:152: reg:linear is now deprecated in favor of reg:squarederror.\n",
      "[11:04:44] WARNING: src/objective/regression_obj.cu:152: reg:linear is now deprecated in favor of reg:squarederror.\n",
      "[11:04:51] WARNING: src/objective/regression_obj.cu:152: reg:linear is now deprecated in favor of reg:squarederror.\n",
      "[11:04:58] WARNING: src/objective/regression_obj.cu:152: reg:linear is now deprecated in favor of reg:squarederror.\n",
      "[11:05:05] WARNING: src/objective/regression_obj.cu:152: reg:linear is now deprecated in favor of reg:squarederror.\n",
      "[11:05:12] WARNING: src/objective/regression_obj.cu:152: reg:linear is now deprecated in favor of reg:squarederror.\n",
      "[11:05:19] WARNING: src/objective/regression_obj.cu:152: reg:linear is now deprecated in favor of reg:squarederror.\n",
      "[11:05:26] WARNING: src/objective/regression_obj.cu:152: reg:linear is now deprecated in favor of reg:squarederror.\n",
      "[11:05:32] WARNING: src/objective/regression_obj.cu:152: reg:linear is now deprecated in favor of reg:squarederror.\n",
      "[11:05:37] WARNING: src/objective/regression_obj.cu:152: reg:linear is now deprecated in favor of reg:squarederror.\n",
      "[11:05:42] WARNING: src/objective/regression_obj.cu:152: reg:linear is now deprecated in favor of reg:squarederror.\n",
      "[11:05:48] WARNING: src/objective/regression_obj.cu:152: reg:linear is now deprecated in favor of reg:squarederror.\n",
      "[11:05:54] WARNING: src/objective/regression_obj.cu:152: reg:linear is now deprecated in favor of reg:squarederror.\n",
      "[11:05:59] WARNING: src/objective/regression_obj.cu:152: reg:linear is now deprecated in favor of reg:squarederror.\n",
      "[11:06:04] WARNING: src/objective/regression_obj.cu:152: reg:linear is now deprecated in favor of reg:squarederror.\n",
      "[11:06:10] WARNING: src/objective/regression_obj.cu:152: reg:linear is now deprecated in favor of reg:squarederror.\n",
      "[11:06:15] WARNING: src/objective/regression_obj.cu:152: reg:linear is now deprecated in favor of reg:squarederror.\n",
      "[11:06:20] WARNING: src/objective/regression_obj.cu:152: reg:linear is now deprecated in favor of reg:squarederror.\n",
      "[11:06:26] WARNING: src/objective/regression_obj.cu:152: reg:linear is now deprecated in favor of reg:squarederror.\n",
      "[11:06:32] WARNING: src/objective/regression_obj.cu:152: reg:linear is now deprecated in favor of reg:squarederror.\n",
      "[11:06:38] WARNING: src/objective/regression_obj.cu:152: reg:linear is now deprecated in favor of reg:squarederror.\n",
      "[11:06:45] WARNING: src/objective/regression_obj.cu:152: reg:linear is now deprecated in favor of reg:squarederror.\n",
      "[11:06:51] WARNING: src/objective/regression_obj.cu:152: reg:linear is now deprecated in favor of reg:squarederror.\n"
     ]
    }
   ],
   "source": [
    "grid.fit(x_train1,y_train1);"
   ]
  },
  {
   "cell_type": "code",
   "execution_count": 88,
   "metadata": {},
   "outputs": [
    {
     "data": {
      "text/plain": [
       "array([4.6467915, 4.341945 , 4.276498 , ..., 4.937532 , 4.099142 ,\n",
       "       3.9697971], dtype=float32)"
      ]
     },
     "execution_count": 88,
     "metadata": {},
     "output_type": "execute_result"
    }
   ],
   "source": [
    "grid.predict(x_train1)"
   ]
  },
  {
   "cell_type": "code",
   "execution_count": 89,
   "metadata": {
    "scrolled": true
   },
   "outputs": [
    {
     "data": {
      "text/plain": [
       "array([4.321413 , 4.472864 , 4.960134 , ..., 4.45023  , 3.1954067,\n",
       "       4.213263 ], dtype=float32)"
      ]
     },
     "execution_count": 89,
     "metadata": {},
     "output_type": "execute_result"
    }
   ],
   "source": [
    "grid.predict(x_test1)"
   ]
  },
  {
   "cell_type": "markdown",
   "metadata": {},
   "source": [
    "# PREDICTING MEAN SQUARED ERROR AND R2 "
   ]
  },
  {
   "cell_type": "code",
   "execution_count": 90,
   "metadata": {},
   "outputs": [
    {
     "name": "stdout",
     "output_type": "stream",
     "text": [
      "\n",
      "Training MSE: 0.1568\n",
      "Validation MSE: 0.1755\n",
      "\n",
      "Training r2: 0.6952\n",
      "Validation r2: 0.6569\n"
     ]
    }
   ],
   "source": [
    "print(\"\\nTraining MSE:\", round(mean_squared_error(y_train1, grid.predict(x_train1)),4))\n",
    "print(\"Validation MSE:\", round(mean_squared_error(y_test1, grid.predict(x_test1)),4))\n",
    "print(\"\\nTraining r2:\", round(r2_score(y_train1, grid.predict(x_train1)),4))\n",
    "print(\"Validation r2:\", round(r2_score(y_test1, grid.predict(x_test1)),4))"
   ]
  },
  {
   "cell_type": "code",
   "execution_count": 92,
   "metadata": {},
   "outputs": [
    {
     "name": "stdout",
     "output_type": "stream",
     "text": [
      "\n",
      "Training MSE: 0.1568\n",
      "Validation MSE: 0.1755\n",
      "\n",
      "Training r2: 0.6952\n",
      "Validation r2: 0.6569\n"
     ]
    }
   ],
   "source": [
    "print(\"\\nTraining MSE:\", round(mean_squared_error(y_train1, grid.predict(x_train)),4))\n",
    "print(\"Validation MSE:\", round(mean_squared_error(y_test1, grid.predict(x_test)),4))\n",
    "print(\"\\nTraining r2:\", round(r2_score(y_train1, grid.predict(x_train)),4))\n",
    "print(\"Validation r2:\", round(r2_score(y_test1, grid.predict(x_test)),4))"
   ]
  },
  {
   "cell_type": "markdown",
   "metadata": {},
   "source": [
    "# FEATURE IMPORTANCE"
   ]
  },
  {
   "cell_type": "code",
   "execution_count": 100,
   "metadata": {},
   "outputs": [],
   "source": [
    "onehotcols =  ctrans.named_transformers_['pipeline-2']['onehotencoder'].get_feature_names()"
   ]
  },
  {
   "cell_type": "code",
   "execution_count": 101,
   "metadata": {},
   "outputs": [
    {
     "data": {
      "text/plain": [
       "array(['x0_Apartment', 'x0_Bed & Breakfast', 'x0_Boat',\n",
       "       'x0_Boutique hotel', 'x0_Bungalow', 'x0_Cabin', 'x0_Camper/RV',\n",
       "       'x0_Castle', 'x0_Cave', 'x0_Chalet', 'x0_Condominium', 'x0_Dorm',\n",
       "       'x0_Earth House', 'x0_Guest suite', 'x0_Guesthouse', 'x0_Hostel',\n",
       "       'x0_House', 'x0_Hut', 'x0_In-law', 'x0_Lighthouse', 'x0_Loft',\n",
       "       'x0_Other', 'x0_Parking Space', 'x0_Serviced apartment', 'x0_Tent',\n",
       "       'x0_Timeshare', 'x0_Tipi', 'x0_Townhouse', 'x0_Train',\n",
       "       'x0_Treehouse', 'x0_Vacation home', 'x0_Villa', 'x0_Yurt',\n",
       "       'x1_Entire home/apt', 'x1_Private room', 'x1_Shared room',\n",
       "       'x2_Airbed', 'x2_Couch', 'x2_Futon', 'x2_Pull-out Sofa',\n",
       "       'x2_Real Bed', 'x3_flexible', 'x3_moderate', 'x3_strict',\n",
       "       'x3_super_strict_30', 'x3_super_strict_60', 'x4_Boston',\n",
       "       'x4_Chicago', 'x4_DC', 'x4_LA', 'x4_NYC', 'x4_SF', 'x5_Missing',\n",
       "       'x5_f', 'x5_t', 'x6_Missing', 'x6_f', 'x6_t', 'x7_f', 'x7_t',\n",
       "       'x8_16th Street Heights', 'x8_Adams Morgan', 'x8_Alamo Square',\n",
       "       'x8_Albany Park', 'x8_Alhambra', 'x8_Allerton',\n",
       "       'x8_Allston-Brighton', 'x8_Alondra Park', 'x8_Alphabet City',\n",
       "       'x8_Altadena', 'x8_American University Park', 'x8_Anacostia',\n",
       "       'x8_Andersonville', 'x8_Annadale', 'x8_Arcadia',\n",
       "       'x8_Archer Heights', 'x8_Arleta', 'x8_Armour Square',\n",
       "       'x8_Arrochar', 'x8_Artesia', 'x8_Arts District', 'x8_Ashburn',\n",
       "       'x8_Astoria', 'x8_Atwater Village', 'x8_Auburn Gresham',\n",
       "       'x8_Austin', 'x8_Avondale', 'x8_Azusa', 'x8_Back Bay',\n",
       "       'x8_Back of the Yards', 'x8_Balboa Terrace', 'x8_Baldwin Hills',\n",
       "       'x8_Baldwin Park', 'x8_Barney Circle', 'x8_Bath Beach',\n",
       "       'x8_Battery Park City', 'x8_Bay Ridge', 'x8_Baychester',\n",
       "       'x8_Bayside', 'x8_Bayview', 'x8_Beacon Hill', 'x8_Bedford Park',\n",
       "       'x8_Bedford-Stuyvesant', 'x8_Bel Air/Beverly Crest', 'x8_Bellevue',\n",
       "       'x8_Bellflower', 'x8_Belmont', 'x8_Belmont Cragin', 'x8_Benning',\n",
       "       'x8_Benning Heights', 'x8_Benning Ridge', 'x8_Bensonhurst',\n",
       "       'x8_Bergen Beach', 'x8_Berkley', 'x8_Bernal Heights', 'x8_Beverly',\n",
       "       'x8_Beverly Hills', 'x8_Bloomingdale', 'x8_Boerum Hill',\n",
       "       'x8_Borough Park', 'x8_Boyle Heights', 'x8_Boystown',\n",
       "       'x8_Bradbury', 'x8_Brentwood', 'x8_Bridgeport',\n",
       "       'x8_Brighton Beach', 'x8_Brighton Park', 'x8_Brightwood',\n",
       "       'x8_Bronxdale', 'x8_Bronzeville', 'x8_Brookland', 'x8_Brooklyn',\n",
       "       'x8_Brooklyn Heights', 'x8_Brooklyn Navy Yard', 'x8_Brownsville',\n",
       "       'x8_Bucktown', 'x8_Buena Vista', 'x8_Burbank', 'x8_Burleith',\n",
       "       'x8_Bushwick', 'x8_Cahuenga Pass', 'x8_Cambridge', 'x8_Canarsie',\n",
       "       'x8_Canoga Park', 'x8_Capitol Hill', 'x8_Carroll Gardens',\n",
       "       'x8_Carson', 'x8_Carver Langston', 'x8_Castle Hill ',\n",
       "       'x8_Castleton Corners', 'x8_Cathedral Heights',\n",
       "       'x8_Central Northeast/Mahaning Heights', 'x8_Cerritos',\n",
       "       'x8_Charlestown', 'x8_Chatham', 'x8_Chatsworth', 'x8_Chelsea',\n",
       "       'x8_Chestnut Hill', 'x8_Chevy Chase', 'x8_Chillum, MD',\n",
       "       'x8_Chinatown', 'x8_City Island', 'x8_Civic Center',\n",
       "       'x8_Claremont', 'x8_Cleveland Park', 'x8_Clifton',\n",
       "       'x8_Clinton Hill', 'x8_Co-op City', 'x8_Cobble Hill',\n",
       "       'x8_Cole Valley', 'x8_College Point', 'x8_Colonial Village',\n",
       "       'x8_Columbia Heights', 'x8_Columbia Street Waterfront',\n",
       "       'x8_Compton', 'x8_Concord', 'x8_Concourse', 'x8_Concourse Village',\n",
       "       'x8_Coney Island', 'x8_Congress Heights', 'x8_Corona', 'x8_Covina',\n",
       "       'x8_Cow Hollow', 'x8_Crestwood', 'x8_Crocker Amazon', 'x8_Crotona',\n",
       "       'x8_Crown Heights', 'x8_Culver City', 'x8_Cypress Park',\n",
       "       'x8_DUMBO', 'x8_Daly City', 'x8_Deanwood', 'x8_Del Rey',\n",
       "       'x8_Diamond Heights', 'x8_Ditmars / Steinway', 'x8_Dogpatch',\n",
       "       'x8_Dongan Hills', 'x8_Dorchester', 'x8_Douglass', 'x8_Downey',\n",
       "       'x8_Downtown', 'x8_Downtown Brooklyn', 'x8_Downtown Crossing',\n",
       "       'x8_Downtown/Penn Quarter', 'x8_Duarte', 'x8_Duboce Triangle',\n",
       "       'x8_Dunning', 'x8_Dupont Circle', 'x8_Dupont Park',\n",
       "       'x8_Dyker Heights', 'x8_Eagle Rock', 'x8_East Boston',\n",
       "       'x8_East Corner', 'x8_East Elmhurst', 'x8_East Flatbush',\n",
       "       'x8_East Harlem', 'x8_East Hollywood', 'x8_East Los Angeles',\n",
       "       'x8_East New York', 'x8_East San Gabriel', 'x8_East Village',\n",
       "       'x8_Eastchester', 'x8_Eastland Gardens', 'x8_Echo Park',\n",
       "       'x8_Eckington', 'x8_Edenwald', 'x8_Edgewater', 'x8_Edgewood',\n",
       "       'x8_Edison Park', 'x8_El Monte', 'x8_El Segundo', 'x8_El Sereno',\n",
       "       'x8_Elm Park', 'x8_Elmhurst', 'x8_Eltingville',\n",
       "       'x8_Elysian Valley', 'x8_Emerson Hill', 'x8_Encino',\n",
       "       'x8_Englewood', 'x8_Excelsior', 'x8_Fairlawn', 'x8_Fenway/Kenmore',\n",
       "       'x8_Financial District', \"x8_Fisherman's Wharf\", 'x8_Flatbush',\n",
       "       'x8_Flatiron District', 'x8_Flatlands', 'x8_Florence-Graham',\n",
       "       'x8_Flushing', 'x8_Foggy Bottom', 'x8_Fordham', 'x8_Forest Hill',\n",
       "       'x8_Forest Hills', 'x8_Fort Davis', 'x8_Fort Dupont',\n",
       "       'x8_Fort Greene', 'x8_Fort Lincoln', 'x8_Fort Totten',\n",
       "       'x8_Fort Wadsworth', 'x8_Foxhall', 'x8_Fresh Meadows',\n",
       "       'x8_Friendship Heights', 'x8_Galewood', 'x8_Gallaudet',\n",
       "       'x8_Gardena', 'x8_Garfield Park', 'x8_Garfield Ridge',\n",
       "       'x8_Gateway', 'x8_Georgetown', 'x8_Glassell Park', 'x8_Glen Park',\n",
       "       'x8_Glendale', 'x8_Glendora', 'x8_Glover Park', 'x8_Gold Coast',\n",
       "       'x8_Good Hope', 'x8_Government Center', 'x8_Gowanus',\n",
       "       'x8_Gramercy Park', 'x8_Granada Hills North', 'x8_Grand Crossing',\n",
       "       'x8_Graniteville', 'x8_Grasmere', 'x8_Gravesend', 'x8_Great Kills',\n",
       "       'x8_Greenpoint', 'x8_Greenway', 'x8_Greenwich Village',\n",
       "       'x8_Greenwood Heights', 'x8_Grymes Hill', 'x8_Haight-Ashbury',\n",
       "       'x8_Hamilton Heights', 'x8_Harbor City', 'x8_Harbor Gateway',\n",
       "       'x8_Harlem', 'x8_Hawaiian Gardens', 'x8_Hawthorne',\n",
       "       'x8_Hayes Valley', \"x8_Hell's Kitchen\", 'x8_Hermon', 'x8_Hermosa',\n",
       "       'x8_Hermosa Beach', 'x8_Highbridge', 'x8_Highland Park',\n",
       "       'x8_Hilcrest Heights/Marlow Heights, MD', 'x8_Hillbrook',\n",
       "       'x8_Hillcrest', 'x8_Hollywood', 'x8_Hollywood Hills',\n",
       "       'x8_Howard Beach', 'x8_Hudson Square', 'x8_Humboldt Park',\n",
       "       'x8_Huntington Park', 'x8_Hunts Point', 'x8_Hyde Park',\n",
       "       'x8_Ingleside', 'x8_Inglewood', 'x8_Inner Sunset', 'x8_Inwood',\n",
       "       'x8_Irving Park', 'x8_Ivy City', 'x8_Jackson Heights',\n",
       "       'x8_Jamaica', 'x8_Jamaica Plain', 'x8_Japantown',\n",
       "       'x8_Jefferson Park', 'x8_Judiciary Square', 'x8_Kalorama',\n",
       "       'x8_Kensington', 'x8_Kent', 'x8_Kenwood', 'x8_Kew Garden Hills',\n",
       "       'x8_Kingman Park', 'x8_Kingsbridge', 'x8_Kingsbridge Heights',\n",
       "       'x8_Kips Bay', 'x8_La Canada Flintridge',\n",
       "       'x8_La Crescenta-Montrose', 'x8_La Mirada', 'x8_La Puente',\n",
       "       'x8_Lake Balboa', 'x8_Lakeshore', 'x8_Lakeview', 'x8_Lakewood',\n",
       "       'x8_Lamond Riggs', 'x8_Langdon', 'x8_Laurel Canyon', 'x8_Lawndale',\n",
       "       'x8_LeDroit Park', 'x8_Leather District', 'x8_Lefferts Garden',\n",
       "       'x8_Lincoln Heights', 'x8_Lincoln Park', 'x8_Lincoln Square',\n",
       "       'x8_Lindenwood', 'x8_Little Italy', 'x8_Little Italy/UIC',\n",
       "       'x8_Little Village', 'x8_Logan Circle', 'x8_Logan Square',\n",
       "       'x8_Lomita', 'x8_Long Beach', 'x8_Long Island City', 'x8_Longwood',\n",
       "       'x8_Loop', 'x8_Los Feliz', 'x8_Lower East Side', 'x8_Lower Haight',\n",
       "       'x8_Lynwood', 'x8_Malibu', 'x8_Manhattan', 'x8_Manhattan Beach',\n",
       "       'x8_Manor Park', 'x8_Mar Vista', 'x8_Marble Hill', 'x8_Marina',\n",
       "       'x8_Marina Del Rey', 'x8_Marine Park', 'x8_Mariners Harbor',\n",
       "       'x8_Marshall Heights', 'x8_Maspeth', 'x8_Massachusetts Heights',\n",
       "       'x8_Mattapan', 'x8_McKinley Park', 'x8_Meatpacking District',\n",
       "       'x8_Meiers Corners', 'x8_Melrose', 'x8_Michigan Park',\n",
       "       'x8_Mid-City', 'x8_Mid-Wilshire', 'x8_Middle Village',\n",
       "       'x8_Midland Beach', 'x8_Midtown', 'x8_Midtown East', 'x8_Midwood',\n",
       "       'x8_Mill Basin', 'x8_Missing', 'x8_Mission Bay',\n",
       "       'x8_Mission District', 'x8_Mission Hill', 'x8_Mission Hills',\n",
       "       'x8_Mission Terrace', 'x8_Monrovia', 'x8_Montebello',\n",
       "       'x8_Montecito Heights', 'x8_Monterey Hills', 'x8_Monterey Park',\n",
       "       'x8_Morningside Heights', 'x8_Morris Heights', 'x8_Morris Park',\n",
       "       'x8_Morrisania', 'x8_Mott Haven', 'x8_Mount Eden',\n",
       "       'x8_Mount Pleasant', 'x8_Mount Vernon Square',\n",
       "       'x8_Mount Washington', 'x8_Mt. Pleasant', 'x8_Murray Hill',\n",
       "       'x8_Navy Yard', 'x8_Naylor Gardens', 'x8_Near North Side',\n",
       "       'x8_Near Northeast/H Street Corridor', 'x8_Near West Side',\n",
       "       'x8_New Brighton', 'x8_New Springville', 'x8_Nob Hill',\n",
       "       'x8_Noe Valley', 'x8_Noho', 'x8_Nolita', 'x8_North Beach',\n",
       "       'x8_North Center', 'x8_North Cleveland Park', 'x8_North End',\n",
       "       'x8_North Hills East', 'x8_North Hills West', 'x8_North Hollywood',\n",
       "       'x8_North Lawndale', 'x8_North Michigan Park', 'x8_North Park',\n",
       "       'x8_Northridge', 'x8_Norwalk', 'x8_Norwood', 'x8_Norwood Park',\n",
       "       \"x8_O'Hare\", 'x8_Oakland', 'x8_Oakwood', 'x8_Observatory Circle',\n",
       "       'x8_Oceanview', \"x8_Old Soldiers' Home\", 'x8_Old Town',\n",
       "       'x8_Outer Sunset', 'x8_Ozone Park', 'x8_Pacific Heights',\n",
       "       'x8_Pacific Palisades', 'x8_Pacoima', 'x8_Palisades', 'x8_Palms',\n",
       "       'x8_Palos Verdes', 'x8_Panorama City', 'x8_Paramount',\n",
       "       'x8_Park Slope', 'x8_Park Versailles', 'x8_Park View',\n",
       "       'x8_Parkchester', 'x8_Parkside', 'x8_Pasadena', 'x8_Pelham Bay',\n",
       "       'x8_Petworth', 'x8_Pico Rivera', 'x8_Pilsen', 'x8_Pleasant Hill',\n",
       "       'x8_Pleasant Plains', 'x8_Port Morris', 'x8_Port Richmond',\n",
       "       'x8_Portage Park', 'x8_Porter Ranch', 'x8_Portola',\n",
       "       'x8_Potrero Hill', 'x8_Presidio Heights', 'x8_Printers Row',\n",
       "       'x8_Prospect Heights', 'x8_Pullman', 'x8_Queens',\n",
       "       'x8_Rancho Palos Verdes', 'x8_Randall Manor',\n",
       "       'x8_Randle Highlands', 'x8_Red Hook', 'x8_Redondo Beach',\n",
       "       'x8_Rego Park', 'x8_Reseda', 'x8_Richmond District',\n",
       "       'x8_Richmond Hill', 'x8_Ridgewood', 'x8_River North',\n",
       "       'x8_River Terrace', 'x8_River West', 'x8_Riverdale',\n",
       "       'x8_Rogers Park', 'x8_Rolling Hills Estates',\n",
       "       'x8_Roosevelt Island', 'x8_Roscoe Village', 'x8_Rosebank',\n",
       "       'x8_Roseland', 'x8_Rosemead', 'x8_Roslindale', 'x8_Roxbury',\n",
       "       'x8_Russian Hill', 'x8_San Gabriel', 'x8_San Marino',\n",
       "       'x8_San Pedro', 'x8_Santa Fe Springs', 'x8_Santa Monica',\n",
       "       'x8_Sea Cliff', 'x8_Sea Gate', 'x8_Shaw', 'x8_Sheepshead Bay',\n",
       "       'x8_Shepherd Park', 'x8_Sherman Oaks', 'x8_Shipley Terrace',\n",
       "       'x8_Sierra Madre', 'x8_Signal Hill', 'x8_Silver Lake',\n",
       "       'x8_Silver Spring, MD', 'x8_Skid Row', 'x8_Skyland', 'x8_SoMa',\n",
       "       'x8_Soho', 'x8_Somerville', 'x8_Soundview', 'x8_South Beach',\n",
       "       'x8_South Boston', 'x8_South Chicago', 'x8_South End',\n",
       "       'x8_South Gate', 'x8_South LA', 'x8_South Loop/Printers Row',\n",
       "       'x8_South Ozone Park', 'x8_South Pasadena', 'x8_South Robertson',\n",
       "       'x8_South San Gabriel', 'x8_South Shore',\n",
       "       'x8_South Street Seaport', 'x8_South Whittier',\n",
       "       'x8_Southwest Waterfront', 'x8_Spring Valley', 'x8_Spuyten Duyvil',\n",
       "       'x8_St. Elizabeths', 'x8_St. George', 'x8_Stapleton',\n",
       "       'x8_Streeterville', 'x8_Stronghold', 'x8_Studio City',\n",
       "       'x8_Suitland-Silver Hill, MD', 'x8_Sun Valley',\n",
       "       'x8_Sunland/Tujunga', 'x8_Sunnyside', 'x8_Sunset Park',\n",
       "       'x8_Sylmar', 'x8_Takoma', 'x8_Tarzana', 'x8_Telegraph Hill',\n",
       "       'x8_Temple City', 'x8_Tenderloin', 'x8_The Bronx', 'x8_The Castro',\n",
       "       'x8_The Rockaways', 'x8_Theater District', 'x8_Throgs Neck',\n",
       "       'x8_Times Square/Theatre District', 'x8_Todt Hill',\n",
       "       'x8_Toluca Lake', 'x8_Tompkinsville', 'x8_Topanga', 'x8_Torrance',\n",
       "       'x8_Tottenville', 'x8_Tremont', 'x8_Tribeca', 'x8_Trinidad',\n",
       "       'x8_Truxton Circle', 'x8_Twin Peaks', 'x8_Twining',\n",
       "       'x8_U Street Corridor', 'x8_Ukrainian Village', 'x8_Union Square',\n",
       "       'x8_University Heights', 'x8_Upper East Side',\n",
       "       'x8_Upper West Side', 'x8_Uptown', 'x8_Utopia', 'x8_Valley Glen',\n",
       "       'x8_Valley Village', 'x8_Van Nest', 'x8_Van Nuys', 'x8_Venice',\n",
       "       'x8_Vernon', 'x8_Vinegar Hill', 'x8_Visitacion Valley',\n",
       "       'x8_Wakefield', 'x8_Washington Heights', 'x8_Washington Highlands',\n",
       "       'x8_Washington Park', 'x8_Watts', 'x8_Wesley Heights',\n",
       "       'x8_West Adams', 'x8_West Athens', 'x8_West Brighton',\n",
       "       'x8_West Covina', 'x8_West Elsdon', 'x8_West End', 'x8_West Farms',\n",
       "       'x8_West Hills', 'x8_West Hollywood', 'x8_West Lawn',\n",
       "       'x8_West Loop/Greektown', 'x8_West Los Angeles', 'x8_West Portal',\n",
       "       'x8_West Puente Valley', 'x8_West Ridge', 'x8_West Roxbury',\n",
       "       'x8_West Town/Noble Square', 'x8_West Village',\n",
       "       'x8_Westchester Village', 'x8_Westchester/Playa Del Rey',\n",
       "       'x8_Westerleigh', 'x8_Western Addition/NOPA', 'x8_Westlake',\n",
       "       'x8_Westmont', 'x8_Westside', 'x8_Westwood', 'x8_Whitestone',\n",
       "       'x8_Whittier', 'x8_Wicker Park', 'x8_Williamsbridge',\n",
       "       'x8_Williamsburg', 'x8_Willowbrook', 'x8_Windsor Terrace',\n",
       "       'x8_Winnetka', 'x8_Winthrop', 'x8_Woodhaven',\n",
       "       'x8_Woodland Hills/Warner Center', 'x8_Woodlawn',\n",
       "       'x8_Woodley Park', 'x8_Woodridge', 'x8_Woodside',\n",
       "       'x8_Wrigleyville'], dtype=object)"
      ]
     },
     "execution_count": 101,
     "metadata": {},
     "output_type": "execute_result"
    }
   ],
   "source": [
    "onehotcols"
   ]
  },
  {
   "cell_type": "code",
   "execution_count": 103,
   "metadata": {},
   "outputs": [],
   "source": [
    "all_columns = list(num_col) + list(onehotcols)"
   ]
  },
  {
   "cell_type": "code",
   "execution_count": 104,
   "metadata": {},
   "outputs": [
    {
     "data": {
      "text/plain": [
       "['accommodates',\n",
       " 'bathrooms',\n",
       " 'cleaning_fee',\n",
       " 'number_of_reviews',\n",
       " 'bedrooms',\n",
       " 'beds',\n",
       " 'day_diff',\n",
       " 'x0_Apartment',\n",
       " 'x0_Bed & Breakfast',\n",
       " 'x0_Boat',\n",
       " 'x0_Boutique hotel',\n",
       " 'x0_Bungalow',\n",
       " 'x0_Cabin',\n",
       " 'x0_Camper/RV',\n",
       " 'x0_Castle',\n",
       " 'x0_Cave',\n",
       " 'x0_Chalet',\n",
       " 'x0_Condominium',\n",
       " 'x0_Dorm',\n",
       " 'x0_Earth House',\n",
       " 'x0_Guest suite',\n",
       " 'x0_Guesthouse',\n",
       " 'x0_Hostel',\n",
       " 'x0_House',\n",
       " 'x0_Hut',\n",
       " 'x0_In-law',\n",
       " 'x0_Lighthouse',\n",
       " 'x0_Loft',\n",
       " 'x0_Other',\n",
       " 'x0_Parking Space',\n",
       " 'x0_Serviced apartment',\n",
       " 'x0_Tent',\n",
       " 'x0_Timeshare',\n",
       " 'x0_Tipi',\n",
       " 'x0_Townhouse',\n",
       " 'x0_Train',\n",
       " 'x0_Treehouse',\n",
       " 'x0_Vacation home',\n",
       " 'x0_Villa',\n",
       " 'x0_Yurt',\n",
       " 'x1_Entire home/apt',\n",
       " 'x1_Private room',\n",
       " 'x1_Shared room',\n",
       " 'x2_Airbed',\n",
       " 'x2_Couch',\n",
       " 'x2_Futon',\n",
       " 'x2_Pull-out Sofa',\n",
       " 'x2_Real Bed',\n",
       " 'x3_flexible',\n",
       " 'x3_moderate',\n",
       " 'x3_strict',\n",
       " 'x3_super_strict_30',\n",
       " 'x3_super_strict_60',\n",
       " 'x4_Boston',\n",
       " 'x4_Chicago',\n",
       " 'x4_DC',\n",
       " 'x4_LA',\n",
       " 'x4_NYC',\n",
       " 'x4_SF',\n",
       " 'x5_Missing',\n",
       " 'x5_f',\n",
       " 'x5_t',\n",
       " 'x6_Missing',\n",
       " 'x6_f',\n",
       " 'x6_t',\n",
       " 'x7_f',\n",
       " 'x7_t',\n",
       " 'x8_16th Street Heights',\n",
       " 'x8_Adams Morgan',\n",
       " 'x8_Alamo Square',\n",
       " 'x8_Albany Park',\n",
       " 'x8_Alhambra',\n",
       " 'x8_Allerton',\n",
       " 'x8_Allston-Brighton',\n",
       " 'x8_Alondra Park',\n",
       " 'x8_Alphabet City',\n",
       " 'x8_Altadena',\n",
       " 'x8_American University Park',\n",
       " 'x8_Anacostia',\n",
       " 'x8_Andersonville',\n",
       " 'x8_Annadale',\n",
       " 'x8_Arcadia',\n",
       " 'x8_Archer Heights',\n",
       " 'x8_Arleta',\n",
       " 'x8_Armour Square',\n",
       " 'x8_Arrochar',\n",
       " 'x8_Artesia',\n",
       " 'x8_Arts District',\n",
       " 'x8_Ashburn',\n",
       " 'x8_Astoria',\n",
       " 'x8_Atwater Village',\n",
       " 'x8_Auburn Gresham',\n",
       " 'x8_Austin',\n",
       " 'x8_Avondale',\n",
       " 'x8_Azusa',\n",
       " 'x8_Back Bay',\n",
       " 'x8_Back of the Yards',\n",
       " 'x8_Balboa Terrace',\n",
       " 'x8_Baldwin Hills',\n",
       " 'x8_Baldwin Park',\n",
       " 'x8_Barney Circle',\n",
       " 'x8_Bath Beach',\n",
       " 'x8_Battery Park City',\n",
       " 'x8_Bay Ridge',\n",
       " 'x8_Baychester',\n",
       " 'x8_Bayside',\n",
       " 'x8_Bayview',\n",
       " 'x8_Beacon Hill',\n",
       " 'x8_Bedford Park',\n",
       " 'x8_Bedford-Stuyvesant',\n",
       " 'x8_Bel Air/Beverly Crest',\n",
       " 'x8_Bellevue',\n",
       " 'x8_Bellflower',\n",
       " 'x8_Belmont',\n",
       " 'x8_Belmont Cragin',\n",
       " 'x8_Benning',\n",
       " 'x8_Benning Heights',\n",
       " 'x8_Benning Ridge',\n",
       " 'x8_Bensonhurst',\n",
       " 'x8_Bergen Beach',\n",
       " 'x8_Berkley',\n",
       " 'x8_Bernal Heights',\n",
       " 'x8_Beverly',\n",
       " 'x8_Beverly Hills',\n",
       " 'x8_Bloomingdale',\n",
       " 'x8_Boerum Hill',\n",
       " 'x8_Borough Park',\n",
       " 'x8_Boyle Heights',\n",
       " 'x8_Boystown',\n",
       " 'x8_Bradbury',\n",
       " 'x8_Brentwood',\n",
       " 'x8_Bridgeport',\n",
       " 'x8_Brighton Beach',\n",
       " 'x8_Brighton Park',\n",
       " 'x8_Brightwood',\n",
       " 'x8_Bronxdale',\n",
       " 'x8_Bronzeville',\n",
       " 'x8_Brookland',\n",
       " 'x8_Brooklyn',\n",
       " 'x8_Brooklyn Heights',\n",
       " 'x8_Brooklyn Navy Yard',\n",
       " 'x8_Brownsville',\n",
       " 'x8_Bucktown',\n",
       " 'x8_Buena Vista',\n",
       " 'x8_Burbank',\n",
       " 'x8_Burleith',\n",
       " 'x8_Bushwick',\n",
       " 'x8_Cahuenga Pass',\n",
       " 'x8_Cambridge',\n",
       " 'x8_Canarsie',\n",
       " 'x8_Canoga Park',\n",
       " 'x8_Capitol Hill',\n",
       " 'x8_Carroll Gardens',\n",
       " 'x8_Carson',\n",
       " 'x8_Carver Langston',\n",
       " 'x8_Castle Hill ',\n",
       " 'x8_Castleton Corners',\n",
       " 'x8_Cathedral Heights',\n",
       " 'x8_Central Northeast/Mahaning Heights',\n",
       " 'x8_Cerritos',\n",
       " 'x8_Charlestown',\n",
       " 'x8_Chatham',\n",
       " 'x8_Chatsworth',\n",
       " 'x8_Chelsea',\n",
       " 'x8_Chestnut Hill',\n",
       " 'x8_Chevy Chase',\n",
       " 'x8_Chillum, MD',\n",
       " 'x8_Chinatown',\n",
       " 'x8_City Island',\n",
       " 'x8_Civic Center',\n",
       " 'x8_Claremont',\n",
       " 'x8_Cleveland Park',\n",
       " 'x8_Clifton',\n",
       " 'x8_Clinton Hill',\n",
       " 'x8_Co-op City',\n",
       " 'x8_Cobble Hill',\n",
       " 'x8_Cole Valley',\n",
       " 'x8_College Point',\n",
       " 'x8_Colonial Village',\n",
       " 'x8_Columbia Heights',\n",
       " 'x8_Columbia Street Waterfront',\n",
       " 'x8_Compton',\n",
       " 'x8_Concord',\n",
       " 'x8_Concourse',\n",
       " 'x8_Concourse Village',\n",
       " 'x8_Coney Island',\n",
       " 'x8_Congress Heights',\n",
       " 'x8_Corona',\n",
       " 'x8_Covina',\n",
       " 'x8_Cow Hollow',\n",
       " 'x8_Crestwood',\n",
       " 'x8_Crocker Amazon',\n",
       " 'x8_Crotona',\n",
       " 'x8_Crown Heights',\n",
       " 'x8_Culver City',\n",
       " 'x8_Cypress Park',\n",
       " 'x8_DUMBO',\n",
       " 'x8_Daly City',\n",
       " 'x8_Deanwood',\n",
       " 'x8_Del Rey',\n",
       " 'x8_Diamond Heights',\n",
       " 'x8_Ditmars / Steinway',\n",
       " 'x8_Dogpatch',\n",
       " 'x8_Dongan Hills',\n",
       " 'x8_Dorchester',\n",
       " 'x8_Douglass',\n",
       " 'x8_Downey',\n",
       " 'x8_Downtown',\n",
       " 'x8_Downtown Brooklyn',\n",
       " 'x8_Downtown Crossing',\n",
       " 'x8_Downtown/Penn Quarter',\n",
       " 'x8_Duarte',\n",
       " 'x8_Duboce Triangle',\n",
       " 'x8_Dunning',\n",
       " 'x8_Dupont Circle',\n",
       " 'x8_Dupont Park',\n",
       " 'x8_Dyker Heights',\n",
       " 'x8_Eagle Rock',\n",
       " 'x8_East Boston',\n",
       " 'x8_East Corner',\n",
       " 'x8_East Elmhurst',\n",
       " 'x8_East Flatbush',\n",
       " 'x8_East Harlem',\n",
       " 'x8_East Hollywood',\n",
       " 'x8_East Los Angeles',\n",
       " 'x8_East New York',\n",
       " 'x8_East San Gabriel',\n",
       " 'x8_East Village',\n",
       " 'x8_Eastchester',\n",
       " 'x8_Eastland Gardens',\n",
       " 'x8_Echo Park',\n",
       " 'x8_Eckington',\n",
       " 'x8_Edenwald',\n",
       " 'x8_Edgewater',\n",
       " 'x8_Edgewood',\n",
       " 'x8_Edison Park',\n",
       " 'x8_El Monte',\n",
       " 'x8_El Segundo',\n",
       " 'x8_El Sereno',\n",
       " 'x8_Elm Park',\n",
       " 'x8_Elmhurst',\n",
       " 'x8_Eltingville',\n",
       " 'x8_Elysian Valley',\n",
       " 'x8_Emerson Hill',\n",
       " 'x8_Encino',\n",
       " 'x8_Englewood',\n",
       " 'x8_Excelsior',\n",
       " 'x8_Fairlawn',\n",
       " 'x8_Fenway/Kenmore',\n",
       " 'x8_Financial District',\n",
       " \"x8_Fisherman's Wharf\",\n",
       " 'x8_Flatbush',\n",
       " 'x8_Flatiron District',\n",
       " 'x8_Flatlands',\n",
       " 'x8_Florence-Graham',\n",
       " 'x8_Flushing',\n",
       " 'x8_Foggy Bottom',\n",
       " 'x8_Fordham',\n",
       " 'x8_Forest Hill',\n",
       " 'x8_Forest Hills',\n",
       " 'x8_Fort Davis',\n",
       " 'x8_Fort Dupont',\n",
       " 'x8_Fort Greene',\n",
       " 'x8_Fort Lincoln',\n",
       " 'x8_Fort Totten',\n",
       " 'x8_Fort Wadsworth',\n",
       " 'x8_Foxhall',\n",
       " 'x8_Fresh Meadows',\n",
       " 'x8_Friendship Heights',\n",
       " 'x8_Galewood',\n",
       " 'x8_Gallaudet',\n",
       " 'x8_Gardena',\n",
       " 'x8_Garfield Park',\n",
       " 'x8_Garfield Ridge',\n",
       " 'x8_Gateway',\n",
       " 'x8_Georgetown',\n",
       " 'x8_Glassell Park',\n",
       " 'x8_Glen Park',\n",
       " 'x8_Glendale',\n",
       " 'x8_Glendora',\n",
       " 'x8_Glover Park',\n",
       " 'x8_Gold Coast',\n",
       " 'x8_Good Hope',\n",
       " 'x8_Government Center',\n",
       " 'x8_Gowanus',\n",
       " 'x8_Gramercy Park',\n",
       " 'x8_Granada Hills North',\n",
       " 'x8_Grand Crossing',\n",
       " 'x8_Graniteville',\n",
       " 'x8_Grasmere',\n",
       " 'x8_Gravesend',\n",
       " 'x8_Great Kills',\n",
       " 'x8_Greenpoint',\n",
       " 'x8_Greenway',\n",
       " 'x8_Greenwich Village',\n",
       " 'x8_Greenwood Heights',\n",
       " 'x8_Grymes Hill',\n",
       " 'x8_Haight-Ashbury',\n",
       " 'x8_Hamilton Heights',\n",
       " 'x8_Harbor City',\n",
       " 'x8_Harbor Gateway',\n",
       " 'x8_Harlem',\n",
       " 'x8_Hawaiian Gardens',\n",
       " 'x8_Hawthorne',\n",
       " 'x8_Hayes Valley',\n",
       " \"x8_Hell's Kitchen\",\n",
       " 'x8_Hermon',\n",
       " 'x8_Hermosa',\n",
       " 'x8_Hermosa Beach',\n",
       " 'x8_Highbridge',\n",
       " 'x8_Highland Park',\n",
       " 'x8_Hilcrest Heights/Marlow Heights, MD',\n",
       " 'x8_Hillbrook',\n",
       " 'x8_Hillcrest',\n",
       " 'x8_Hollywood',\n",
       " 'x8_Hollywood Hills',\n",
       " 'x8_Howard Beach',\n",
       " 'x8_Hudson Square',\n",
       " 'x8_Humboldt Park',\n",
       " 'x8_Huntington Park',\n",
       " 'x8_Hunts Point',\n",
       " 'x8_Hyde Park',\n",
       " 'x8_Ingleside',\n",
       " 'x8_Inglewood',\n",
       " 'x8_Inner Sunset',\n",
       " 'x8_Inwood',\n",
       " 'x8_Irving Park',\n",
       " 'x8_Ivy City',\n",
       " 'x8_Jackson Heights',\n",
       " 'x8_Jamaica',\n",
       " 'x8_Jamaica Plain',\n",
       " 'x8_Japantown',\n",
       " 'x8_Jefferson Park',\n",
       " 'x8_Judiciary Square',\n",
       " 'x8_Kalorama',\n",
       " 'x8_Kensington',\n",
       " 'x8_Kent',\n",
       " 'x8_Kenwood',\n",
       " 'x8_Kew Garden Hills',\n",
       " 'x8_Kingman Park',\n",
       " 'x8_Kingsbridge',\n",
       " 'x8_Kingsbridge Heights',\n",
       " 'x8_Kips Bay',\n",
       " 'x8_La Canada Flintridge',\n",
       " 'x8_La Crescenta-Montrose',\n",
       " 'x8_La Mirada',\n",
       " 'x8_La Puente',\n",
       " 'x8_Lake Balboa',\n",
       " 'x8_Lakeshore',\n",
       " 'x8_Lakeview',\n",
       " 'x8_Lakewood',\n",
       " 'x8_Lamond Riggs',\n",
       " 'x8_Langdon',\n",
       " 'x8_Laurel Canyon',\n",
       " 'x8_Lawndale',\n",
       " 'x8_LeDroit Park',\n",
       " 'x8_Leather District',\n",
       " 'x8_Lefferts Garden',\n",
       " 'x8_Lincoln Heights',\n",
       " 'x8_Lincoln Park',\n",
       " 'x8_Lincoln Square',\n",
       " 'x8_Lindenwood',\n",
       " 'x8_Little Italy',\n",
       " 'x8_Little Italy/UIC',\n",
       " 'x8_Little Village',\n",
       " 'x8_Logan Circle',\n",
       " 'x8_Logan Square',\n",
       " 'x8_Lomita',\n",
       " 'x8_Long Beach',\n",
       " 'x8_Long Island City',\n",
       " 'x8_Longwood',\n",
       " 'x8_Loop',\n",
       " 'x8_Los Feliz',\n",
       " 'x8_Lower East Side',\n",
       " 'x8_Lower Haight',\n",
       " 'x8_Lynwood',\n",
       " 'x8_Malibu',\n",
       " 'x8_Manhattan',\n",
       " 'x8_Manhattan Beach',\n",
       " 'x8_Manor Park',\n",
       " 'x8_Mar Vista',\n",
       " 'x8_Marble Hill',\n",
       " 'x8_Marina',\n",
       " 'x8_Marina Del Rey',\n",
       " 'x8_Marine Park',\n",
       " 'x8_Mariners Harbor',\n",
       " 'x8_Marshall Heights',\n",
       " 'x8_Maspeth',\n",
       " 'x8_Massachusetts Heights',\n",
       " 'x8_Mattapan',\n",
       " 'x8_McKinley Park',\n",
       " 'x8_Meatpacking District',\n",
       " 'x8_Meiers Corners',\n",
       " 'x8_Melrose',\n",
       " 'x8_Michigan Park',\n",
       " 'x8_Mid-City',\n",
       " 'x8_Mid-Wilshire',\n",
       " 'x8_Middle Village',\n",
       " 'x8_Midland Beach',\n",
       " 'x8_Midtown',\n",
       " 'x8_Midtown East',\n",
       " 'x8_Midwood',\n",
       " 'x8_Mill Basin',\n",
       " 'x8_Missing',\n",
       " 'x8_Mission Bay',\n",
       " 'x8_Mission District',\n",
       " 'x8_Mission Hill',\n",
       " 'x8_Mission Hills',\n",
       " 'x8_Mission Terrace',\n",
       " 'x8_Monrovia',\n",
       " 'x8_Montebello',\n",
       " 'x8_Montecito Heights',\n",
       " 'x8_Monterey Hills',\n",
       " 'x8_Monterey Park',\n",
       " 'x8_Morningside Heights',\n",
       " 'x8_Morris Heights',\n",
       " 'x8_Morris Park',\n",
       " 'x8_Morrisania',\n",
       " 'x8_Mott Haven',\n",
       " 'x8_Mount Eden',\n",
       " 'x8_Mount Pleasant',\n",
       " 'x8_Mount Vernon Square',\n",
       " 'x8_Mount Washington',\n",
       " 'x8_Mt. Pleasant',\n",
       " 'x8_Murray Hill',\n",
       " 'x8_Navy Yard',\n",
       " 'x8_Naylor Gardens',\n",
       " 'x8_Near North Side',\n",
       " 'x8_Near Northeast/H Street Corridor',\n",
       " 'x8_Near West Side',\n",
       " 'x8_New Brighton',\n",
       " 'x8_New Springville',\n",
       " 'x8_Nob Hill',\n",
       " 'x8_Noe Valley',\n",
       " 'x8_Noho',\n",
       " 'x8_Nolita',\n",
       " 'x8_North Beach',\n",
       " 'x8_North Center',\n",
       " 'x8_North Cleveland Park',\n",
       " 'x8_North End',\n",
       " 'x8_North Hills East',\n",
       " 'x8_North Hills West',\n",
       " 'x8_North Hollywood',\n",
       " 'x8_North Lawndale',\n",
       " 'x8_North Michigan Park',\n",
       " 'x8_North Park',\n",
       " 'x8_Northridge',\n",
       " 'x8_Norwalk',\n",
       " 'x8_Norwood',\n",
       " 'x8_Norwood Park',\n",
       " \"x8_O'Hare\",\n",
       " 'x8_Oakland',\n",
       " 'x8_Oakwood',\n",
       " 'x8_Observatory Circle',\n",
       " 'x8_Oceanview',\n",
       " \"x8_Old Soldiers' Home\",\n",
       " 'x8_Old Town',\n",
       " 'x8_Outer Sunset',\n",
       " 'x8_Ozone Park',\n",
       " 'x8_Pacific Heights',\n",
       " 'x8_Pacific Palisades',\n",
       " 'x8_Pacoima',\n",
       " 'x8_Palisades',\n",
       " 'x8_Palms',\n",
       " 'x8_Palos Verdes',\n",
       " 'x8_Panorama City',\n",
       " 'x8_Paramount',\n",
       " 'x8_Park Slope',\n",
       " 'x8_Park Versailles',\n",
       " 'x8_Park View',\n",
       " 'x8_Parkchester',\n",
       " 'x8_Parkside',\n",
       " 'x8_Pasadena',\n",
       " 'x8_Pelham Bay',\n",
       " 'x8_Petworth',\n",
       " 'x8_Pico Rivera',\n",
       " 'x8_Pilsen',\n",
       " 'x8_Pleasant Hill',\n",
       " 'x8_Pleasant Plains',\n",
       " 'x8_Port Morris',\n",
       " 'x8_Port Richmond',\n",
       " 'x8_Portage Park',\n",
       " 'x8_Porter Ranch',\n",
       " 'x8_Portola',\n",
       " 'x8_Potrero Hill',\n",
       " 'x8_Presidio Heights',\n",
       " 'x8_Printers Row',\n",
       " 'x8_Prospect Heights',\n",
       " 'x8_Pullman',\n",
       " 'x8_Queens',\n",
       " 'x8_Rancho Palos Verdes',\n",
       " 'x8_Randall Manor',\n",
       " 'x8_Randle Highlands',\n",
       " 'x8_Red Hook',\n",
       " 'x8_Redondo Beach',\n",
       " 'x8_Rego Park',\n",
       " 'x8_Reseda',\n",
       " 'x8_Richmond District',\n",
       " 'x8_Richmond Hill',\n",
       " 'x8_Ridgewood',\n",
       " 'x8_River North',\n",
       " 'x8_River Terrace',\n",
       " 'x8_River West',\n",
       " 'x8_Riverdale',\n",
       " 'x8_Rogers Park',\n",
       " 'x8_Rolling Hills Estates',\n",
       " 'x8_Roosevelt Island',\n",
       " 'x8_Roscoe Village',\n",
       " 'x8_Rosebank',\n",
       " 'x8_Roseland',\n",
       " 'x8_Rosemead',\n",
       " 'x8_Roslindale',\n",
       " 'x8_Roxbury',\n",
       " 'x8_Russian Hill',\n",
       " 'x8_San Gabriel',\n",
       " 'x8_San Marino',\n",
       " 'x8_San Pedro',\n",
       " 'x8_Santa Fe Springs',\n",
       " 'x8_Santa Monica',\n",
       " 'x8_Sea Cliff',\n",
       " 'x8_Sea Gate',\n",
       " 'x8_Shaw',\n",
       " 'x8_Sheepshead Bay',\n",
       " 'x8_Shepherd Park',\n",
       " 'x8_Sherman Oaks',\n",
       " 'x8_Shipley Terrace',\n",
       " 'x8_Sierra Madre',\n",
       " 'x8_Signal Hill',\n",
       " 'x8_Silver Lake',\n",
       " 'x8_Silver Spring, MD',\n",
       " 'x8_Skid Row',\n",
       " 'x8_Skyland',\n",
       " 'x8_SoMa',\n",
       " 'x8_Soho',\n",
       " 'x8_Somerville',\n",
       " 'x8_Soundview',\n",
       " 'x8_South Beach',\n",
       " 'x8_South Boston',\n",
       " 'x8_South Chicago',\n",
       " 'x8_South End',\n",
       " 'x8_South Gate',\n",
       " 'x8_South LA',\n",
       " 'x8_South Loop/Printers Row',\n",
       " 'x8_South Ozone Park',\n",
       " 'x8_South Pasadena',\n",
       " 'x8_South Robertson',\n",
       " 'x8_South San Gabriel',\n",
       " 'x8_South Shore',\n",
       " 'x8_South Street Seaport',\n",
       " 'x8_South Whittier',\n",
       " 'x8_Southwest Waterfront',\n",
       " 'x8_Spring Valley',\n",
       " 'x8_Spuyten Duyvil',\n",
       " 'x8_St. Elizabeths',\n",
       " 'x8_St. George',\n",
       " 'x8_Stapleton',\n",
       " 'x8_Streeterville',\n",
       " 'x8_Stronghold',\n",
       " 'x8_Studio City',\n",
       " 'x8_Suitland-Silver Hill, MD',\n",
       " 'x8_Sun Valley',\n",
       " 'x8_Sunland/Tujunga',\n",
       " 'x8_Sunnyside',\n",
       " 'x8_Sunset Park',\n",
       " 'x8_Sylmar',\n",
       " 'x8_Takoma',\n",
       " 'x8_Tarzana',\n",
       " 'x8_Telegraph Hill',\n",
       " 'x8_Temple City',\n",
       " 'x8_Tenderloin',\n",
       " 'x8_The Bronx',\n",
       " 'x8_The Castro',\n",
       " 'x8_The Rockaways',\n",
       " 'x8_Theater District',\n",
       " 'x8_Throgs Neck',\n",
       " 'x8_Times Square/Theatre District',\n",
       " 'x8_Todt Hill',\n",
       " 'x8_Toluca Lake',\n",
       " 'x8_Tompkinsville',\n",
       " 'x8_Topanga',\n",
       " 'x8_Torrance',\n",
       " 'x8_Tottenville',\n",
       " 'x8_Tremont',\n",
       " 'x8_Tribeca',\n",
       " 'x8_Trinidad',\n",
       " 'x8_Truxton Circle',\n",
       " 'x8_Twin Peaks',\n",
       " 'x8_Twining',\n",
       " 'x8_U Street Corridor',\n",
       " 'x8_Ukrainian Village',\n",
       " 'x8_Union Square',\n",
       " 'x8_University Heights',\n",
       " 'x8_Upper East Side',\n",
       " 'x8_Upper West Side',\n",
       " 'x8_Uptown',\n",
       " 'x8_Utopia',\n",
       " 'x8_Valley Glen',\n",
       " 'x8_Valley Village',\n",
       " 'x8_Van Nest',\n",
       " 'x8_Van Nuys',\n",
       " 'x8_Venice',\n",
       " 'x8_Vernon',\n",
       " 'x8_Vinegar Hill',\n",
       " 'x8_Visitacion Valley',\n",
       " 'x8_Wakefield',\n",
       " 'x8_Washington Heights',\n",
       " 'x8_Washington Highlands',\n",
       " 'x8_Washington Park',\n",
       " 'x8_Watts',\n",
       " 'x8_Wesley Heights',\n",
       " 'x8_West Adams',\n",
       " 'x8_West Athens',\n",
       " 'x8_West Brighton',\n",
       " 'x8_West Covina',\n",
       " 'x8_West Elsdon',\n",
       " 'x8_West End',\n",
       " 'x8_West Farms',\n",
       " 'x8_West Hills',\n",
       " 'x8_West Hollywood',\n",
       " 'x8_West Lawn',\n",
       " 'x8_West Loop/Greektown',\n",
       " 'x8_West Los Angeles',\n",
       " 'x8_West Portal',\n",
       " 'x8_West Puente Valley',\n",
       " 'x8_West Ridge',\n",
       " 'x8_West Roxbury',\n",
       " 'x8_West Town/Noble Square',\n",
       " 'x8_West Village',\n",
       " 'x8_Westchester Village',\n",
       " 'x8_Westchester/Playa Del Rey',\n",
       " 'x8_Westerleigh',\n",
       " 'x8_Western Addition/NOPA',\n",
       " 'x8_Westlake',\n",
       " 'x8_Westmont',\n",
       " 'x8_Westside',\n",
       " 'x8_Westwood',\n",
       " 'x8_Whitestone',\n",
       " 'x8_Whittier',\n",
       " 'x8_Wicker Park',\n",
       " 'x8_Williamsbridge',\n",
       " 'x8_Williamsburg',\n",
       " 'x8_Willowbrook',\n",
       " 'x8_Windsor Terrace',\n",
       " 'x8_Winnetka',\n",
       " 'x8_Winthrop',\n",
       " 'x8_Woodhaven',\n",
       " 'x8_Woodland Hills/Warner Center',\n",
       " 'x8_Woodlawn',\n",
       " 'x8_Woodley Park',\n",
       " 'x8_Woodridge',\n",
       " 'x8_Woodside',\n",
       " 'x8_Wrigleyville']"
      ]
     },
     "execution_count": 104,
     "metadata": {},
     "output_type": "execute_result"
    }
   ],
   "source": [
    "all_columns"
   ]
  },
  {
   "cell_type": "code",
   "execution_count": 106,
   "metadata": {},
   "outputs": [],
   "source": [
    "df = pd.DataFrame(grid.best_estimator_['xgb'].feature_importances_, index = all_columns).reset_index(drop=False)"
   ]
  },
  {
   "cell_type": "code",
   "execution_count": 107,
   "metadata": {},
   "outputs": [],
   "source": [
    "df = df.rename({'index': 'variables', 0:'Importance'}, axis = 1)"
   ]
  },
  {
   "cell_type": "code",
   "execution_count": 108,
   "metadata": {},
   "outputs": [],
   "source": [
    "df = df.sort_values(['Importance'], ascending=False)\n",
    "df = df.set_index('variables')"
   ]
  },
  {
   "cell_type": "code",
   "execution_count": 109,
   "metadata": {},
   "outputs": [
    {
     "data": {
      "image/png": "[encoded data removed]",
      "text/plain": [
       "<Figure size 432x288 with 1 Axes>"
      ]
     },
     "metadata": {},
     "output_type": "display_data"
    }
   ],
   "source": [
    "df.iloc[0:20,:].plot(kind='bar');"
   ]
  },
  {
   "cell_type": "code",
   "execution_count": 114,
   "metadata": {},
   "outputs": [
    {
     "data": {
      "text/html": [
       "<div>\n",
       "<style scoped>\n",
       "    .dataframe tbody tr th:only-of-type {\n",
       "        vertical-align: middle;\n",
       "    }\n",
       "\n",
       "    .dataframe tbody tr th {\n",
       "        vertical-align: top;\n",
       "    }\n",
       "\n",
       "    .dataframe thead th {\n",
       "        text-align: right;\n",
       "    }\n",
       "</style>\n",
       "<table border=\"1\" class=\"dataframe\">\n",
       "  <thead>\n",
       "    <tr style=\"text-align: right;\">\n",
       "      <th></th>\n",
       "      <th>weight</th>\n",
       "    </tr>\n",
       "  </thead>\n",
       "  <tbody>\n",
       "    <tr>\n",
       "      <td>x1_Entire home/apt</td>\n",
       "      <td>0.384861</td>\n",
       "    </tr>\n",
       "    <tr>\n",
       "      <td>bathrooms</td>\n",
       "      <td>0.022565</td>\n",
       "    </tr>\n",
       "    <tr>\n",
       "      <td>x4_SF</td>\n",
       "      <td>0.014844</td>\n",
       "    </tr>\n",
       "    <tr>\n",
       "      <td>accommodates</td>\n",
       "      <td>0.014421</td>\n",
       "    </tr>\n",
       "    <tr>\n",
       "      <td>x8_Malibu</td>\n",
       "      <td>0.010807</td>\n",
       "    </tr>\n",
       "    <tr>\n",
       "      <td>x8_West Village</td>\n",
       "      <td>0.009246</td>\n",
       "    </tr>\n",
       "    <tr>\n",
       "      <td>bedrooms</td>\n",
       "      <td>0.009154</td>\n",
       "    </tr>\n",
       "    <tr>\n",
       "      <td>x1_Private room</td>\n",
       "      <td>0.009000</td>\n",
       "    </tr>\n",
       "    <tr>\n",
       "      <td>x8_Chelsea</td>\n",
       "      <td>0.008954</td>\n",
       "    </tr>\n",
       "    <tr>\n",
       "      <td>x8_East Village</td>\n",
       "      <td>0.008531</td>\n",
       "    </tr>\n",
       "  </tbody>\n",
       "</table>\n",
       "</div>"
      ],
      "text/plain": [
       "                      weight\n",
       "x1_Entire home/apt  0.384861\n",
       "bathrooms           0.022565\n",
       "x4_SF               0.014844\n",
       "accommodates        0.014421\n",
       "x8_Malibu           0.010807\n",
       "x8_West Village     0.009246\n",
       "bedrooms            0.009154\n",
       "x1_Private room     0.009000\n",
       "x8_Chelsea          0.008954\n",
       "x8_East Village     0.008531"
      ]
     },
     "execution_count": 114,
     "metadata": {},
     "output_type": "execute_result"
    }
   ],
   "source": [
    "ft_weights_xgb_reg = pd.DataFrame(grid.best_estimator_['xgb'].feature_importances_, columns=['weight'], index=all_columns)\n",
    "ft_weights_xgb_reg.sort_values('weight', ascending=False, inplace=True)\n",
    "ft_weights_xgb_reg.head(10)"
   ]
  },
  {
   "cell_type": "markdown",
   "metadata": {},
   "source": [
    "# SUBMISSION"
   ]
  },
  {
   "cell_type": "code",
   "execution_count": 116,
   "metadata": {},
   "outputs": [],
   "source": [
    "pred_final = grid.predict(data_test)"
   ]
  },
  {
   "cell_type": "code",
   "execution_count": 117,
   "metadata": {},
   "outputs": [],
   "source": [
    "pred_final=pd.DataFrame(pred_final)"
   ]
  },
  {
   "cell_type": "code",
   "execution_count": 118,
   "metadata": {},
   "outputs": [],
   "source": [
    "pred_final.columns=[\"log_price\"]"
   ]
  },
  {
   "cell_type": "code",
   "execution_count": 119,
   "metadata": {},
   "outputs": [],
   "source": [
    "pred_final[\"id\"]=data_test.id"
   ]
  },
  {
   "cell_type": "code",
   "execution_count": 120,
   "metadata": {},
   "outputs": [],
   "source": [
    "pred_final=pred_final[[\"id\",\"log_price\"]]"
   ]
  },
  {
   "cell_type": "code",
   "execution_count": 121,
   "metadata": {},
   "outputs": [
    {
     "data": {
      "text/html": [
       "<div>\n",
       "<style scoped>\n",
       "    .dataframe tbody tr th:only-of-type {\n",
       "        vertical-align: middle;\n",
       "    }\n",
       "\n",
       "    .dataframe tbody tr th {\n",
       "        vertical-align: top;\n",
       "    }\n",
       "\n",
       "    .dataframe thead th {\n",
       "        text-align: right;\n",
       "    }\n",
       "</style>\n",
       "<table border=\"1\" class=\"dataframe\">\n",
       "  <thead>\n",
       "    <tr style=\"text-align: right;\">\n",
       "      <th></th>\n",
       "      <th>id</th>\n",
       "      <th>log_price</th>\n",
       "    </tr>\n",
       "  </thead>\n",
       "  <tbody>\n",
       "    <tr>\n",
       "      <td>0</td>\n",
       "      <td>5979389</td>\n",
       "      <td>4.203019</td>\n",
       "    </tr>\n",
       "    <tr>\n",
       "      <td>1</td>\n",
       "      <td>13488121</td>\n",
       "      <td>4.810305</td>\n",
       "    </tr>\n",
       "    <tr>\n",
       "      <td>2</td>\n",
       "      <td>8121643</td>\n",
       "      <td>4.690732</td>\n",
       "    </tr>\n",
       "    <tr>\n",
       "      <td>3</td>\n",
       "      <td>16490010</td>\n",
       "      <td>4.328553</td>\n",
       "    </tr>\n",
       "    <tr>\n",
       "      <td>4</td>\n",
       "      <td>16274069</td>\n",
       "      <td>4.952802</td>\n",
       "    </tr>\n",
       "  </tbody>\n",
       "</table>\n",
       "</div>"
      ],
      "text/plain": [
       "         id  log_price\n",
       "0   5979389   4.203019\n",
       "1  13488121   4.810305\n",
       "2   8121643   4.690732\n",
       "3  16490010   4.328553\n",
       "4  16274069   4.952802"
      ]
     },
     "execution_count": 121,
     "metadata": {},
     "output_type": "execute_result"
    }
   ],
   "source": [
    "pred_final.head()"
   ]
  },
  {
   "cell_type": "code",
   "execution_count": 122,
   "metadata": {},
   "outputs": [
    {
     "data": {
      "text/plain": [
       "((24111, 17), (24111, 2))"
      ]
     },
     "execution_count": 122,
     "metadata": {},
     "output_type": "execute_result"
    }
   ],
   "source": [
    "data_test.shape,pred_final.shape"
   ]
  },
  {
   "cell_type": "code",
   "execution_count": 123,
   "metadata": {},
   "outputs": [],
   "source": [
    "pred_final=pred_final.to_csv(\"Abdeali_Case_Study.csv\",index=False)"
   ]
  },
  {
   "cell_type": "code",
   "execution_count": 124,
   "metadata": {},
   "outputs": [
    {
     "data": {
      "text/plain": [
       "{'xgb__reg_lambda': 10,\n",
       " 'xgb__reg_alpha': 1,\n",
       " 'xgb__n_estimators': 100,\n",
       " 'xgb__max_depth': 8,\n",
       " 'xgb__learning_rate': 0.1}"
      ]
     },
     "execution_count": 124,
     "metadata": {},
     "output_type": "execute_result"
    }
   ],
   "source": [
    "grid.best_params_"
   ]
  },
  {
   "cell_type": "markdown",
   "metadata": {},
   "source": [
    "# THANK YOU !!!"
   ]
  }
 ],
 "metadata": {
  "kernelspec": {
   "display_name": "Python 3",
   "language": "python",
   "name": "python3"
  },
  "language_info": {
   "codemirror_mode": {
    "name": "ipython",
    "version": 3
   },
   "file_extension": ".py",
   "mimetype": "text/x-python",
   "name": "python",
   "nbconvert_exporter": "python",
   "pygments_lexer": "ipython3",
   "version": "3.7.4"
  }
 },
 "nbformat": 4,
 "nbformat_minor": 2
}
